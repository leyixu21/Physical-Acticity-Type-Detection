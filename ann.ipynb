{
 "cells": [
  {
   "cell_type": "code",
   "execution_count": 2,
   "id": "21e4ecd8",
   "metadata": {},
   "outputs": [],
   "source": [
    "import numpy as np\n",
    "import pandas as pd\n",
    "import seaborn as sns\n",
    "from tqdm import tqdm\n",
    "import matplotlib.pyplot as plt\n",
    "import pickle\n",
    "\n",
    "import torch\n",
    "import torch.nn as nn\n",
    "import torch.optim as optim\n",
    "from torch.utils.data import Dataset, DataLoader, WeightedRandomSampler\n",
    "\n",
    "from sklearn.preprocessing import MinMaxScaler\n",
    "from sklearn.model_selection import train_test_split\n",
    "from sklearn.metrics import confusion_matrix, classification_report, precision_recall_fscore_support, accuracy_score\n",
    "from sklearn.feature_selection import SelectKBest, chi2\n",
    "from sklearn.decomposition import PCA"
   ]
  },
  {
   "cell_type": "code",
   "execution_count": 3,
   "id": "fa14d2c0",
   "metadata": {},
   "outputs": [
    {
     "name": "stdout",
     "output_type": "stream",
     "text": [
      "PyTorch is running on cpu\n"
     ]
    }
   ],
   "source": [
    "# Check PyTorch and set device accordingly (CPU or GPU)\n",
    "device = torch.device(\"cuda:0\" if torch.cuda.is_available() else \"cpu\")\n",
    "print(\"PyTorch is running on\", device)"
   ]
  },
  {
   "cell_type": "markdown",
   "id": "1e171b8e",
   "metadata": {},
   "source": [
    "### ANN architecture and other general functions"
   ]
  },
  {
   "cell_type": "code",
   "execution_count": 4,
   "id": "90c9573f",
   "metadata": {},
   "outputs": [],
   "source": [
    "class ANN(nn.Module):\n",
    "    def __init__(self, num_feature, num_class):\n",
    "        super(ANN, self).__init__()\n",
    "        \n",
    "        self.layer_1 = nn.Linear(num_feature, 256)\n",
    "        self.layer_2 = nn.Linear(256, 128)\n",
    "        self.layer_out = nn.Linear(128, num_class) \n",
    "        \n",
    "        self.relu = nn.LeakyReLU(negative_slope=0.01)\n",
    "        self.dropout = nn.Dropout(p=0.3)\n",
    "        self.batchnorm1 = nn.BatchNorm1d(256)\n",
    "        self.batchnorm2 = nn.BatchNorm1d(128)\n",
    "        \n",
    "    def forward(self, x):\n",
    "        x = self.layer_1(x)\n",
    "        x = self.batchnorm1(x)\n",
    "        x = self.relu(x)\n",
    "        \n",
    "        x = self.layer_2(x)\n",
    "        x = self.batchnorm2(x)\n",
    "        x = self.relu(x)\n",
    "        x = self.dropout(x)\n",
    "        \n",
    "        x = self.layer_out(x)\n",
    "        \n",
    "        return x"
   ]
  },
  {
   "cell_type": "code",
   "execution_count": 5,
   "id": "ed5290af",
   "metadata": {},
   "outputs": [
    {
     "data": {
      "text/plain": [
       "55174"
      ]
     },
     "execution_count": 5,
     "metadata": {},
     "output_type": "execute_result"
    }
   ],
   "source": [
    "# Check nr of parameters\n",
    "model = ANN(80, 6)\n",
    "params = sum([np.prod(p.size()) for p in model.parameters()])\n",
    "params"
   ]
  },
  {
   "cell_type": "code",
   "execution_count": 6,
   "id": "76ced3d1",
   "metadata": {},
   "outputs": [],
   "source": [
    "# ========== create dataset class ==========\n",
    "class ClassifierDataset(Dataset):\n",
    "    def __init__(self, X_data, y_data):\n",
    "        self.X_data = X_data\n",
    "        self.y_data = y_data\n",
    "        \n",
    "    def __getitem__(self, index):\n",
    "        return self.X_data[index], self.y_data[index]\n",
    "        \n",
    "    def __len__ (self):\n",
    "        return len(self.X_data)"
   ]
  },
  {
   "cell_type": "code",
   "execution_count": 7,
   "id": "b89150d5",
   "metadata": {},
   "outputs": [],
   "source": [
    "# function to compute accuracy\n",
    "def multi_acc(y_pred, y_test):\n",
    "    y_pred_softmax = torch.log_softmax(y_pred, dim = 1)\n",
    "    _, y_pred_tags = torch.max(y_pred_softmax, dim = 1)    \n",
    "    \n",
    "    correct_pred = (y_pred_tags == y_test).float()\n",
    "    acc = correct_pred.sum() / len(correct_pred)\n",
    "    \n",
    "    acc = torch.round(acc * 100)\n",
    "    \n",
    "    return acc"
   ]
  },
  {
   "cell_type": "code",
   "execution_count": 8,
   "id": "f7f36f4b",
   "metadata": {},
   "outputs": [],
   "source": [
    "# function to get class distribution\n",
    "def get_class_distribution(obj, labels, idx2class):\n",
    "    count_dict = {label:0 for label in labels}\n",
    "    for i in obj:\n",
    "        count_dict[idx2class[i]] += 1\n",
    "    return count_dict"
   ]
  },
  {
   "cell_type": "markdown",
   "id": "17aeb28f",
   "metadata": {},
   "source": [
    "### Read data"
   ]
  },
  {
   "cell_type": "code",
   "execution_count": 9,
   "id": "b1eb5900",
   "metadata": {},
   "outputs": [
    {
     "data": {
      "text/html": [
       "<div>\n",
       "<style scoped>\n",
       "    .dataframe tbody tr th:only-of-type {\n",
       "        vertical-align: middle;\n",
       "    }\n",
       "\n",
       "    .dataframe tbody tr th {\n",
       "        vertical-align: top;\n",
       "    }\n",
       "\n",
       "    .dataframe thead th {\n",
       "        text-align: right;\n",
       "    }\n",
       "</style>\n",
       "<table border=\"1\" class=\"dataframe\">\n",
       "  <thead>\n",
       "    <tr style=\"text-align: right;\">\n",
       "      <th></th>\n",
       "      <th>Avgaccx</th>\n",
       "      <th>Avgaccy</th>\n",
       "      <th>Avgaccz</th>\n",
       "      <th>AvgSVM</th>\n",
       "      <th>Stdaccx</th>\n",
       "      <th>Stdaccy</th>\n",
       "      <th>Stdaccz</th>\n",
       "      <th>StdSVM</th>\n",
       "      <th>Entaccx</th>\n",
       "      <th>Entaccy</th>\n",
       "      <th>...</th>\n",
       "      <th>Adf3z</th>\n",
       "      <th>meandfz</th>\n",
       "      <th>APSDz</th>\n",
       "      <th>speed</th>\n",
       "      <th>ele</th>\n",
       "      <th>data_type</th>\n",
       "      <th>person_age</th>\n",
       "      <th>person_id</th>\n",
       "      <th>sensor_id</th>\n",
       "      <th>activitylabel</th>\n",
       "    </tr>\n",
       "  </thead>\n",
       "  <tbody>\n",
       "    <tr>\n",
       "      <th>0</th>\n",
       "      <td>-0.303753</td>\n",
       "      <td>7.432372</td>\n",
       "      <td>-3.781712</td>\n",
       "      <td>12.190383</td>\n",
       "      <td>3.269082</td>\n",
       "      <td>7.101847</td>\n",
       "      <td>5.986451</td>\n",
       "      <td>4.146244</td>\n",
       "      <td>11.322538</td>\n",
       "      <td>6.914159</td>\n",
       "      <td>...</td>\n",
       "      <td>20.316009</td>\n",
       "      <td>2.333336</td>\n",
       "      <td>35.994717</td>\n",
       "      <td>0.387425</td>\n",
       "      <td>0.760064</td>\n",
       "      <td>real</td>\n",
       "      <td>old</td>\n",
       "      <td>1</td>\n",
       "      <td>1</td>\n",
       "      <td>Walking upstairs</td>\n",
       "    </tr>\n",
       "    <tr>\n",
       "      <th>1</th>\n",
       "      <td>-0.406141</td>\n",
       "      <td>6.942041</td>\n",
       "      <td>-3.964706</td>\n",
       "      <td>12.079694</td>\n",
       "      <td>3.450044</td>\n",
       "      <td>7.444587</td>\n",
       "      <td>5.836912</td>\n",
       "      <td>4.327157</td>\n",
       "      <td>9.536997</td>\n",
       "      <td>7.061920</td>\n",
       "      <td>...</td>\n",
       "      <td>19.458823</td>\n",
       "      <td>2.833336</td>\n",
       "      <td>35.789577</td>\n",
       "      <td>0.718727</td>\n",
       "      <td>0.817485</td>\n",
       "      <td>real</td>\n",
       "      <td>old</td>\n",
       "      <td>1</td>\n",
       "      <td>1</td>\n",
       "      <td>Walking upstairs</td>\n",
       "    </tr>\n",
       "    <tr>\n",
       "      <th>2</th>\n",
       "      <td>-0.370697</td>\n",
       "      <td>6.429724</td>\n",
       "      <td>-4.196715</td>\n",
       "      <td>10.933430</td>\n",
       "      <td>3.130854</td>\n",
       "      <td>6.670531</td>\n",
       "      <td>4.933708</td>\n",
       "      <td>4.192900</td>\n",
       "      <td>9.161536</td>\n",
       "      <td>6.916139</td>\n",
       "      <td>...</td>\n",
       "      <td>18.516719</td>\n",
       "      <td>1.500001</td>\n",
       "      <td>34.332629</td>\n",
       "      <td>1.052226</td>\n",
       "      <td>0.416856</td>\n",
       "      <td>real</td>\n",
       "      <td>old</td>\n",
       "      <td>1</td>\n",
       "      <td>1</td>\n",
       "      <td>Walking upstairs</td>\n",
       "    </tr>\n",
       "    <tr>\n",
       "      <th>3</th>\n",
       "      <td>-0.528001</td>\n",
       "      <td>6.659298</td>\n",
       "      <td>-4.899464</td>\n",
       "      <td>11.503312</td>\n",
       "      <td>3.409928</td>\n",
       "      <td>6.704678</td>\n",
       "      <td>5.035308</td>\n",
       "      <td>4.194620</td>\n",
       "      <td>9.500888</td>\n",
       "      <td>6.814718</td>\n",
       "      <td>...</td>\n",
       "      <td>19.061974</td>\n",
       "      <td>1.500001</td>\n",
       "      <td>34.554294</td>\n",
       "      <td>1.146483</td>\n",
       "      <td>0.048929</td>\n",
       "      <td>real</td>\n",
       "      <td>old</td>\n",
       "      <td>1</td>\n",
       "      <td>1</td>\n",
       "      <td>Walking upstairs</td>\n",
       "    </tr>\n",
       "    <tr>\n",
       "      <th>4</th>\n",
       "      <td>-0.638545</td>\n",
       "      <td>6.954452</td>\n",
       "      <td>-4.775402</td>\n",
       "      <td>12.613509</td>\n",
       "      <td>3.664202</td>\n",
       "      <td>7.802148</td>\n",
       "      <td>5.628932</td>\n",
       "      <td>4.192455</td>\n",
       "      <td>8.993569</td>\n",
       "      <td>7.056684</td>\n",
       "      <td>...</td>\n",
       "      <td>19.052737</td>\n",
       "      <td>1.333335</td>\n",
       "      <td>35.465462</td>\n",
       "      <td>0.924365</td>\n",
       "      <td>-0.849368</td>\n",
       "      <td>real</td>\n",
       "      <td>old</td>\n",
       "      <td>1</td>\n",
       "      <td>1</td>\n",
       "      <td>Walking upstairs</td>\n",
       "    </tr>\n",
       "  </tbody>\n",
       "</table>\n",
       "<p>5 rows × 85 columns</p>\n",
       "</div>"
      ],
      "text/plain": [
       "    Avgaccx   Avgaccy   Avgaccz     AvgSVM   Stdaccx   Stdaccy   Stdaccz  \\\n",
       "0 -0.303753  7.432372 -3.781712  12.190383  3.269082  7.101847  5.986451   \n",
       "1 -0.406141  6.942041 -3.964706  12.079694  3.450044  7.444587  5.836912   \n",
       "2 -0.370697  6.429724 -4.196715  10.933430  3.130854  6.670531  4.933708   \n",
       "3 -0.528001  6.659298 -4.899464  11.503312  3.409928  6.704678  5.035308   \n",
       "4 -0.638545  6.954452 -4.775402  12.613509  3.664202  7.802148  5.628932   \n",
       "\n",
       "     StdSVM    Entaccx   Entaccy  ...      Adf3z   meandfz      APSDz  \\\n",
       "0  4.146244  11.322538  6.914159  ...  20.316009  2.333336  35.994717   \n",
       "1  4.327157   9.536997  7.061920  ...  19.458823  2.833336  35.789577   \n",
       "2  4.192900   9.161536  6.916139  ...  18.516719  1.500001  34.332629   \n",
       "3  4.194620   9.500888  6.814718  ...  19.061974  1.500001  34.554294   \n",
       "4  4.192455   8.993569  7.056684  ...  19.052737  1.333335  35.465462   \n",
       "\n",
       "      speed       ele  data_type  person_age  person_id  sensor_id  \\\n",
       "0  0.387425  0.760064       real         old          1          1   \n",
       "1  0.718727  0.817485       real         old          1          1   \n",
       "2  1.052226  0.416856       real         old          1          1   \n",
       "3  1.146483  0.048929       real         old          1          1   \n",
       "4  0.924365 -0.849368       real         old          1          1   \n",
       "\n",
       "      activitylabel  \n",
       "0  Walking upstairs  \n",
       "1  Walking upstairs  \n",
       "2  Walking upstairs  \n",
       "3  Walking upstairs  \n",
       "4  Walking upstairs  \n",
       "\n",
       "[5 rows x 85 columns]"
      ]
     },
     "execution_count": 9,
     "metadata": {},
     "output_type": "execute_result"
    }
   ],
   "source": [
    "# read data from csv\n",
    "df = pd.read_csv(\"data.csv\")\n",
    "df.head()"
   ]
  },
  {
   "cell_type": "code",
   "execution_count": 10,
   "id": "3659e518",
   "metadata": {
    "scrolled": true
   },
   "outputs": [],
   "source": [
    "# Get column names\n",
    "col_features = list(df.columns[0:80])\n",
    "col_metadata = list(df.columns[80:84])\n",
    "col_label = df.columns[84]"
   ]
  },
  {
   "cell_type": "code",
   "execution_count": 11,
   "id": "28e8835f",
   "metadata": {
    "scrolled": false
   },
   "outputs": [
    {
     "data": {
      "text/plain": [
       "<AxesSubplot:xlabel='activitylabel', ylabel='count'>"
      ]
     },
     "execution_count": 11,
     "metadata": {},
     "output_type": "execute_result"
    },
    {
     "data": {
      "image/png": "[encoded data removed]",
      "text/plain": [
       "<Figure size 1728x576 with 1 Axes>"
      ]
     },
     "metadata": {
      "needs_background": "light"
     },
     "output_type": "display_data"
    }
   ],
   "source": [
    "# Visualize labels distribution\n",
    "a4_dims = (24, 8)\n",
    "fig, ax = plt.subplots(figsize=a4_dims)\n",
    "sns.countplot(x = col_label, data=df)"
   ]
  },
  {
   "cell_type": "code",
   "execution_count": 12,
   "id": "76301880",
   "metadata": {},
   "outputs": [
    {
     "data": {
      "text/plain": [
       "<AxesSubplot:xlabel='activitylabel', ylabel='count'>"
      ]
     },
     "execution_count": 12,
     "metadata": {},
     "output_type": "execute_result"
    },
    {
     "data": {
      "image/png": "[encoded data removed]",
      "text/plain": [
       "<Figure size 1728x576 with 1 Axes>"
      ]
     },
     "metadata": {
      "needs_background": "light"
     },
     "output_type": "display_data"
    }
   ],
   "source": [
    "# Combine some labels for consistency\n",
    "df.loc[df[col_label] == \"Walking upstair\", col_label] = \"Non-level walking\"\n",
    "df.loc[df[col_label] == \"Walking upstairs\", col_label] = \"Non-level walking\"\n",
    "df.loc[df[col_label] == \"Walking downstair\", col_label] = \"Non-level walking\"\n",
    "df.loc[df[col_label] == \"Walking downstairs\", col_label] = \"Non-level walking\"\n",
    "df.loc[df[col_label] == \"Uphill walking\", col_label] = \"Non-level walking\"\n",
    "df.loc[df[col_label] == \"Downhill walking\", col_label] = \"Non-level walking\"\n",
    "\n",
    "df.loc[df[col_label] == \"Running-urban\", col_label] = \"Running\"\n",
    "df.loc[df[col_label] == \"Running-leisure\", col_label] = \"Running\"\n",
    "\n",
    "# View changes\n",
    "a4_dims = (24, 8)\n",
    "fig, ax = plt.subplots(figsize=a4_dims)\n",
    "sns.countplot(x = col_label, data=df)"
   ]
  },
  {
   "cell_type": "markdown",
   "id": "ad60b167",
   "metadata": {},
   "source": [
    "Stacked bar chart of PA types of each participant"
   ]
  },
  {
   "cell_type": "code",
   "execution_count": 64,
   "id": "48deb79a",
   "metadata": {},
   "outputs": [
    {
     "data": {
      "text/html": [
       "<div>\n",
       "<style scoped>\n",
       "    .dataframe tbody tr th:only-of-type {\n",
       "        vertical-align: middle;\n",
       "    }\n",
       "\n",
       "    .dataframe tbody tr th {\n",
       "        vertical-align: top;\n",
       "    }\n",
       "\n",
       "    .dataframe thead th {\n",
       "        text-align: right;\n",
       "    }\n",
       "</style>\n",
       "<table border=\"1\" class=\"dataframe\">\n",
       "  <thead>\n",
       "    <tr style=\"text-align: right;\">\n",
       "      <th>activitylabel</th>\n",
       "      <th>Running</th>\n",
       "      <th>Walking</th>\n",
       "      <th>Non-level walking</th>\n",
       "      <th>Standing</th>\n",
       "      <th>Sitting</th>\n",
       "      <th>Lying</th>\n",
       "    </tr>\n",
       "    <tr>\n",
       "      <th>person_id</th>\n",
       "      <th></th>\n",
       "      <th></th>\n",
       "      <th></th>\n",
       "      <th></th>\n",
       "      <th></th>\n",
       "      <th></th>\n",
       "    </tr>\n",
       "  </thead>\n",
       "  <tbody>\n",
       "    <tr>\n",
       "      <th>1</th>\n",
       "      <td>0.104532</td>\n",
       "      <td>0.477444</td>\n",
       "      <td>0.226086</td>\n",
       "      <td>0.073204</td>\n",
       "      <td>0.047932</td>\n",
       "      <td>0.070802</td>\n",
       "    </tr>\n",
       "    <tr>\n",
       "      <th>2</th>\n",
       "      <td>0.092690</td>\n",
       "      <td>0.501349</td>\n",
       "      <td>0.228206</td>\n",
       "      <td>0.051508</td>\n",
       "      <td>0.064414</td>\n",
       "      <td>0.061833</td>\n",
       "    </tr>\n",
       "    <tr>\n",
       "      <th>3</th>\n",
       "      <td>0.107998</td>\n",
       "      <td>0.467733</td>\n",
       "      <td>0.270270</td>\n",
       "      <td>0.046332</td>\n",
       "      <td>0.049531</td>\n",
       "      <td>0.058136</td>\n",
       "    </tr>\n",
       "    <tr>\n",
       "      <th>4</th>\n",
       "      <td>0.098384</td>\n",
       "      <td>0.422980</td>\n",
       "      <td>0.291682</td>\n",
       "      <td>0.070377</td>\n",
       "      <td>0.050987</td>\n",
       "      <td>0.065589</td>\n",
       "    </tr>\n",
       "    <tr>\n",
       "      <th>5</th>\n",
       "      <td>0.117430</td>\n",
       "      <td>0.421031</td>\n",
       "      <td>0.257229</td>\n",
       "      <td>0.075150</td>\n",
       "      <td>0.071331</td>\n",
       "      <td>0.057829</td>\n",
       "    </tr>\n",
       "    <tr>\n",
       "      <th>6</th>\n",
       "      <td>0.098077</td>\n",
       "      <td>0.452335</td>\n",
       "      <td>0.233791</td>\n",
       "      <td>0.090797</td>\n",
       "      <td>0.061126</td>\n",
       "      <td>0.063874</td>\n",
       "    </tr>\n",
       "    <tr>\n",
       "      <th>7</th>\n",
       "      <td>0.089428</td>\n",
       "      <td>0.477976</td>\n",
       "      <td>0.229256</td>\n",
       "      <td>0.069965</td>\n",
       "      <td>0.074985</td>\n",
       "      <td>0.058390</td>\n",
       "    </tr>\n",
       "    <tr>\n",
       "      <th>8</th>\n",
       "      <td>0.109522</td>\n",
       "      <td>0.416491</td>\n",
       "      <td>0.273594</td>\n",
       "      <td>0.064367</td>\n",
       "      <td>0.067172</td>\n",
       "      <td>0.068854</td>\n",
       "    </tr>\n",
       "    <tr>\n",
       "      <th>9</th>\n",
       "      <td>0.116671</td>\n",
       "      <td>0.463832</td>\n",
       "      <td>0.233601</td>\n",
       "      <td>0.063391</td>\n",
       "      <td>0.057298</td>\n",
       "      <td>0.065206</td>\n",
       "    </tr>\n",
       "    <tr>\n",
       "      <th>10</th>\n",
       "      <td>0.100402</td>\n",
       "      <td>0.463033</td>\n",
       "      <td>0.261224</td>\n",
       "      <td>0.071141</td>\n",
       "      <td>0.049810</td>\n",
       "      <td>0.054389</td>\n",
       "    </tr>\n",
       "  </tbody>\n",
       "</table>\n",
       "</div>"
      ],
      "text/plain": [
       "activitylabel   Running   Walking  Non-level walking  Standing   Sitting  \\\n",
       "person_id                                                                  \n",
       "1              0.104532  0.477444           0.226086  0.073204  0.047932   \n",
       "2              0.092690  0.501349           0.228206  0.051508  0.064414   \n",
       "3              0.107998  0.467733           0.270270  0.046332  0.049531   \n",
       "4              0.098384  0.422980           0.291682  0.070377  0.050987   \n",
       "5              0.117430  0.421031           0.257229  0.075150  0.071331   \n",
       "6              0.098077  0.452335           0.233791  0.090797  0.061126   \n",
       "7              0.089428  0.477976           0.229256  0.069965  0.074985   \n",
       "8              0.109522  0.416491           0.273594  0.064367  0.067172   \n",
       "9              0.116671  0.463832           0.233601  0.063391  0.057298   \n",
       "10             0.100402  0.463033           0.261224  0.071141  0.049810   \n",
       "\n",
       "activitylabel     Lying  \n",
       "person_id                \n",
       "1              0.070802  \n",
       "2              0.061833  \n",
       "3              0.058136  \n",
       "4              0.065589  \n",
       "5              0.057829  \n",
       "6              0.063874  \n",
       "7              0.058390  \n",
       "8              0.068854  \n",
       "9              0.065206  \n",
       "10             0.054389  "
      ]
     },
     "execution_count": 64,
     "metadata": {},
     "output_type": "execute_result"
    }
   ],
   "source": [
    "# count PA labels time of younger adults\n",
    "# df.to_csv(\"data_merged.csv\")\n",
    "df_old = df[['data_type', 'person_age', 'person_id', 'activitylabel']][df['person_age']=='old']\n",
    "df_old_label = df_old.groupby(['person_id', 'activitylabel']).count()\n",
    "df_old_label['hours'] = (df_old_label['data_type']+1)/3600\n",
    "df_old_label_pivot = pd.pivot_table(data=df_old_label, index=['person_id'], columns=['activitylabel'], values='hours')\n",
    "df_old_label_pivot = df_old_label_pivot[['Running', 'Walking', 'Non-level walking', 'Standing', 'Sitting', 'Lying']]\n",
    "\n",
    "df_old_label_pivot['sum'] = df_old_label_pivot.sum(axis = 1)\n",
    "df_old_label_pivot['Running'] = (df_old_label_pivot['Running']/df_old_label_pivot['sum'])\n",
    "df_old_label_pivot['Walking'] = (df_old_label_pivot['Walking']/df_old_label_pivot['sum'])\n",
    "df_old_label_pivot['Non-level walking'] = (df_old_label_pivot['Non-level walking']/df_old_label_pivot['sum'])\n",
    "df_old_label_pivot['Standing'] = (df_old_label_pivot['Standing']/df_old_label_pivot['sum'])\n",
    "df_old_label_pivot['Sitting'] = (df_old_label_pivot['Sitting']/df_old_label_pivot['sum'])\n",
    "df_old_label_pivot['Lying'] = (df_old_label_pivot['Lying']/df_old_label_pivot['sum'])\n",
    "\n",
    "df_old_label_pivot.pop('sum')\n",
    "\n",
    "df_old_label_pivot"
   ]
  },
  {
   "cell_type": "code",
   "execution_count": 59,
   "id": "21cea574",
   "metadata": {},
   "outputs": [
    {
     "data": {
      "text/html": [
       "<div>\n",
       "<style scoped>\n",
       "    .dataframe tbody tr th:only-of-type {\n",
       "        vertical-align: middle;\n",
       "    }\n",
       "\n",
       "    .dataframe tbody tr th {\n",
       "        vertical-align: top;\n",
       "    }\n",
       "\n",
       "    .dataframe thead th {\n",
       "        text-align: right;\n",
       "    }\n",
       "</style>\n",
       "<table border=\"1\" class=\"dataframe\">\n",
       "  <thead>\n",
       "    <tr style=\"text-align: right;\">\n",
       "      <th>activitylabel</th>\n",
       "      <th>Running</th>\n",
       "      <th>Walking</th>\n",
       "      <th>Non-level walking</th>\n",
       "      <th>Standing</th>\n",
       "      <th>Sitting</th>\n",
       "      <th>Lying</th>\n",
       "    </tr>\n",
       "    <tr>\n",
       "      <th>person_id</th>\n",
       "      <th></th>\n",
       "      <th></th>\n",
       "      <th></th>\n",
       "      <th></th>\n",
       "      <th></th>\n",
       "      <th></th>\n",
       "    </tr>\n",
       "  </thead>\n",
       "  <tbody>\n",
       "    <tr>\n",
       "      <th>1</th>\n",
       "      <td>0.106824</td>\n",
       "      <td>0.335964</td>\n",
       "      <td>0.312582</td>\n",
       "      <td>0.068391</td>\n",
       "      <td>0.082712</td>\n",
       "      <td>0.093526</td>\n",
       "    </tr>\n",
       "    <tr>\n",
       "      <th>2</th>\n",
       "      <td>0.113228</td>\n",
       "      <td>0.336669</td>\n",
       "      <td>0.318100</td>\n",
       "      <td>0.080068</td>\n",
       "      <td>0.074521</td>\n",
       "      <td>0.077415</td>\n",
       "    </tr>\n",
       "    <tr>\n",
       "      <th>3</th>\n",
       "      <td>0.105605</td>\n",
       "      <td>0.331749</td>\n",
       "      <td>0.402056</td>\n",
       "      <td>0.053045</td>\n",
       "      <td>0.047227</td>\n",
       "      <td>0.060318</td>\n",
       "    </tr>\n",
       "    <tr>\n",
       "      <th>4</th>\n",
       "      <td>0.117393</td>\n",
       "      <td>0.388631</td>\n",
       "      <td>0.276182</td>\n",
       "      <td>0.061322</td>\n",
       "      <td>0.075224</td>\n",
       "      <td>0.081248</td>\n",
       "    </tr>\n",
       "    <tr>\n",
       "      <th>5</th>\n",
       "      <td>0.124526</td>\n",
       "      <td>0.321154</td>\n",
       "      <td>0.362092</td>\n",
       "      <td>0.051326</td>\n",
       "      <td>0.062935</td>\n",
       "      <td>0.077967</td>\n",
       "    </tr>\n",
       "    <tr>\n",
       "      <th>6</th>\n",
       "      <td>0.103257</td>\n",
       "      <td>0.384149</td>\n",
       "      <td>0.263352</td>\n",
       "      <td>0.088092</td>\n",
       "      <td>0.069366</td>\n",
       "      <td>0.091784</td>\n",
       "    </tr>\n",
       "    <tr>\n",
       "      <th>7</th>\n",
       "      <td>0.096109</td>\n",
       "      <td>0.386288</td>\n",
       "      <td>0.320568</td>\n",
       "      <td>0.057937</td>\n",
       "      <td>0.080049</td>\n",
       "      <td>0.059049</td>\n",
       "    </tr>\n",
       "    <tr>\n",
       "      <th>8</th>\n",
       "      <td>0.117672</td>\n",
       "      <td>0.351171</td>\n",
       "      <td>0.276224</td>\n",
       "      <td>0.127040</td>\n",
       "      <td>0.055926</td>\n",
       "      <td>0.071966</td>\n",
       "    </tr>\n",
       "    <tr>\n",
       "      <th>9</th>\n",
       "      <td>0.137950</td>\n",
       "      <td>0.375282</td>\n",
       "      <td>0.256194</td>\n",
       "      <td>0.070524</td>\n",
       "      <td>0.087979</td>\n",
       "      <td>0.072072</td>\n",
       "    </tr>\n",
       "    <tr>\n",
       "      <th>10</th>\n",
       "      <td>0.105855</td>\n",
       "      <td>0.334345</td>\n",
       "      <td>0.294895</td>\n",
       "      <td>0.075330</td>\n",
       "      <td>0.107819</td>\n",
       "      <td>0.081757</td>\n",
       "    </tr>\n",
       "  </tbody>\n",
       "</table>\n",
       "</div>"
      ],
      "text/plain": [
       "activitylabel   Running   Walking  Non-level walking  Standing   Sitting  \\\n",
       "person_id                                                                  \n",
       "1              0.106824  0.335964           0.312582  0.068391  0.082712   \n",
       "2              0.113228  0.336669           0.318100  0.080068  0.074521   \n",
       "3              0.105605  0.331749           0.402056  0.053045  0.047227   \n",
       "4              0.117393  0.388631           0.276182  0.061322  0.075224   \n",
       "5              0.124526  0.321154           0.362092  0.051326  0.062935   \n",
       "6              0.103257  0.384149           0.263352  0.088092  0.069366   \n",
       "7              0.096109  0.386288           0.320568  0.057937  0.080049   \n",
       "8              0.117672  0.351171           0.276224  0.127040  0.055926   \n",
       "9              0.137950  0.375282           0.256194  0.070524  0.087979   \n",
       "10             0.105855  0.334345           0.294895  0.075330  0.107819   \n",
       "\n",
       "activitylabel     Lying  \n",
       "person_id                \n",
       "1              0.093526  \n",
       "2              0.077415  \n",
       "3              0.060318  \n",
       "4              0.081248  \n",
       "5              0.077967  \n",
       "6              0.091784  \n",
       "7              0.059049  \n",
       "8              0.071966  \n",
       "9              0.072072  \n",
       "10             0.081757  "
      ]
     },
     "execution_count": 59,
     "metadata": {},
     "output_type": "execute_result"
    }
   ],
   "source": [
    "# count PA labels time of younger adults\n",
    "df_young = df[['data_type', 'person_age', 'person_id', 'activitylabel']][df['person_age']=='young']\n",
    "df_young_label = df_young.groupby(['person_id', 'activitylabel']).count()\n",
    "df_young_label['hours'] = (df_young_label['data_type']+1)/3600\n",
    "df_young_label_pivot = pd.pivot_table(data=df_young_label, index=['person_id'], columns=['activitylabel'], values='hours')\n",
    "df_young_label_pivot = df_young_label_pivot[['Running', 'Walking', 'Non-level walking', 'Standing', 'Sitting', 'Lying']]\n",
    "\n",
    "df_young_label_pivot['sum'] = df_young_label_pivot.sum(axis = 1)\n",
    "df_young_label_pivot['Running'] = (df_young_label_pivot['Running']/df_young_label_pivot['sum'])\n",
    "df_young_label_pivot['Walking'] = (df_young_label_pivot['Walking']/df_young_label_pivot['sum'])\n",
    "df_young_label_pivot['Non-level walking'] = (df_young_label_pivot['Non-level walking']/df_young_label_pivot['sum'])\n",
    "df_young_label_pivot['Standing'] = (df_young_label_pivot['Standing']/df_young_label_pivot['sum'])\n",
    "df_young_label_pivot['Sitting'] = (df_young_label_pivot['Sitting']/df_young_label_pivot['sum'])\n",
    "df_young_label_pivot['Lying'] = (df_young_label_pivot['Lying']/df_young_label_pivot['sum'])\n",
    "\n",
    "df_young_label_pivot.pop('sum')\n",
    "\n",
    "df_young_label_pivot"
   ]
  },
  {
   "cell_type": "code",
   "execution_count": 78,
   "metadata": {},
   "outputs": [
    {
     "name": "stderr",
     "output_type": "stream",
     "text": [
      "C:\\Users\\leyix\\AppData\\Local\\Temp\\ipykernel_17344\\36980283.py:6: UserWarning: FixedFormatter should only be used together with FixedLocator\n",
      "  old.set_yticklabels(['0%', '20%', '40%', '60%', '80%', '100%'])\n",
      "C:\\Users\\leyix\\AppData\\Local\\Temp\\ipykernel_17344\\36980283.py:12: MatplotlibDeprecationWarning: The 'b' parameter of grid() has been renamed 'visible' since Matplotlib 3.5; support for the old name will be dropped two minor releases later.\n",
      "  plt.grid(b=True, axis = 'y', color = 'grey', linestyle = 'dashed', linewidth = 0.5)\n"
     ]
    },
    {
     "data": {
      "image/png": "[encoded data removed]",
      "text/plain": [
       "<Figure size 720x504 with 1 Axes>"
      ]
     },
     "metadata": {
      "needs_background": "light"
     },
     "output_type": "display_data"
    }
   ],
   "source": [
    "# plot stacked bar chart\n",
    "color = [\"#d53e4f\", \"#3288bd\", \"#ff7b53\", \"#34bacb\", \"#8e82c5\", \"#61c1a3\"]\n",
    "old = df_old_label_pivot.plot.bar(stacked=True, width=0.65,color=color, figsize=(10,7))\n",
    "plt.xlabel(\"Participants\")\n",
    "plt.ylabel(\"Percentage\")\n",
    "old.set_yticklabels(['0%', '20%', '40%', '60%', '80%', '100%'])\n",
    "old.set_xticklabels(['1','2','3','4','5','6','7','8','9','10'], rotation=0)\n",
    "handles, labels = plt.gca().get_legend_handles_labels()\n",
    "order = [5,4,3,2,1,0]\n",
    "old.legend([handles[idx] for idx in order],[labels[idx] for idx in order], title='PA types', bbox_to_anchor=(1, 1.02), loc='upper left')\n",
    "old.set_axisbelow(True)\n",
    "plt.grid(b=True, axis = 'y', color = 'grey', linestyle = 'dashed', linewidth = 0.5)\n",
    "\n",
    "for p in old.patches:\n",
    "    width, height = p.get_width(), p.get_height()\n",
    "    x, y = p.get_xy() \n",
    "    old.text(x+width/2, \n",
    "            y+height/2, \n",
    "            '{:.2%}'.format(height), \n",
    "            horizontalalignment='center', \n",
    "            verticalalignment='center',\n",
    "            color='black',\n",
    "            size=9.5)"
   ]
  },
  {
   "cell_type": "code",
   "execution_count": 77,
   "id": "c2d25ad2",
   "metadata": {},
   "outputs": [
    {
     "name": "stderr",
     "output_type": "stream",
     "text": [
      "C:\\Users\\leyix\\AppData\\Local\\Temp\\ipykernel_17344\\2217627157.py:6: UserWarning: FixedFormatter should only be used together with FixedLocator\n",
      "  young.set_yticklabels(['0%', '20%', '40%', '60%', '80%', '100%'])\n",
      "C:\\Users\\leyix\\AppData\\Local\\Temp\\ipykernel_17344\\2217627157.py:12: MatplotlibDeprecationWarning: The 'b' parameter of grid() has been renamed 'visible' since Matplotlib 3.5; support for the old name will be dropped two minor releases later.\n",
      "  plt.grid(b=True, axis = 'y', color = 'grey', linestyle = 'dashed', linewidth = 0.5)\n"
     ]
    },
    {
     "data": {
      "image/png": "[encoded data removed]",
      "text/plain": [
       "<Figure size 720x504 with 1 Axes>"
      ]
     },
     "metadata": {
      "needs_background": "light"
     },
     "output_type": "display_data"
    }
   ],
   "source": [
    "# plot stacked bar chart\n",
    "color = [\"#d53e4f\", \"#3288bd\", \"#ff7b53\", \"#34bacb\", \"#8e82c5\", \"#61c1a3\"]\n",
    "young = df_young_label_pivot.plot.bar(stacked=True, width=0.65,color=color, figsize=(10,7))\n",
    "plt.xlabel(\"Participants\")\n",
    "plt.ylabel(\"Percentage\")\n",
    "young.set_yticklabels(['0%', '20%', '40%', '60%', '80%', '100%'])\n",
    "young.set_xticklabels(['1','2','3','4','5','6','7','8','9','10'], rotation=0)\n",
    "handles, labels = plt.gca().get_legend_handles_labels()\n",
    "order = [5,4,3,2,1,0]\n",
    "young.legend([handles[idx] for idx in order],[labels[idx] for idx in order], title='PA types', bbox_to_anchor=(1, 1.02), loc='upper left')\n",
    "young.set_axisbelow(True)\n",
    "plt.grid(b=True, axis = 'y', color = 'grey', linestyle = 'dashed', linewidth = 0.5)\n",
    "\n",
    "for p in young.patches:\n",
    "    width, height = p.get_width(), p.get_height()\n",
    "    x, y = p.get_xy() \n",
    "    young.text(x+width/2, \n",
    "            y+height/2, \n",
    "            '{:.2%}'.format(height), \n",
    "            horizontalalignment='center', \n",
    "            verticalalignment='center',\n",
    "            color='black',\n",
    "            size=9.5)\n"
   ]
  },
  {
   "cell_type": "code",
   "execution_count": 12,
   "id": "6671b822",
   "metadata": {},
   "outputs": [
    {
     "data": {
      "text/html": [
       "<div>\n",
       "<style scoped>\n",
       "    .dataframe tbody tr th:only-of-type {\n",
       "        vertical-align: middle;\n",
       "    }\n",
       "\n",
       "    .dataframe tbody tr th {\n",
       "        vertical-align: top;\n",
       "    }\n",
       "\n",
       "    .dataframe thead th {\n",
       "        text-align: right;\n",
       "    }\n",
       "</style>\n",
       "<table border=\"1\" class=\"dataframe\">\n",
       "  <thead>\n",
       "    <tr style=\"text-align: right;\">\n",
       "      <th></th>\n",
       "      <th>Avgaccx</th>\n",
       "      <th>Avgaccy</th>\n",
       "      <th>Avgaccz</th>\n",
       "      <th>AvgSVM</th>\n",
       "      <th>Stdaccx</th>\n",
       "      <th>Stdaccy</th>\n",
       "      <th>Stdaccz</th>\n",
       "      <th>StdSVM</th>\n",
       "      <th>Entaccx</th>\n",
       "      <th>Entaccy</th>\n",
       "      <th>...</th>\n",
       "      <th>Adf3z</th>\n",
       "      <th>meandfz</th>\n",
       "      <th>APSDz</th>\n",
       "      <th>speed</th>\n",
       "      <th>ele</th>\n",
       "      <th>data_type</th>\n",
       "      <th>person_age</th>\n",
       "      <th>person_id</th>\n",
       "      <th>sensor_id</th>\n",
       "      <th>activitylabel</th>\n",
       "    </tr>\n",
       "  </thead>\n",
       "  <tbody>\n",
       "    <tr>\n",
       "      <th>0</th>\n",
       "      <td>0.479156</td>\n",
       "      <td>0.786340</td>\n",
       "      <td>0.347873</td>\n",
       "      <td>0.203072</td>\n",
       "      <td>0.240925</td>\n",
       "      <td>0.432716</td>\n",
       "      <td>0.414227</td>\n",
       "      <td>0.420654</td>\n",
       "      <td>0.999982</td>\n",
       "      <td>0.821833</td>\n",
       "      <td>...</td>\n",
       "      <td>0.881799</td>\n",
       "      <td>0.137662</td>\n",
       "      <td>0.858917</td>\n",
       "      <td>0.069012</td>\n",
       "      <td>0.562001</td>\n",
       "      <td>real</td>\n",
       "      <td>old</td>\n",
       "      <td>1</td>\n",
       "      <td>1</td>\n",
       "      <td>0</td>\n",
       "    </tr>\n",
       "    <tr>\n",
       "      <th>1</th>\n",
       "      <td>0.473937</td>\n",
       "      <td>0.761727</td>\n",
       "      <td>0.339709</td>\n",
       "      <td>0.196802</td>\n",
       "      <td>0.254297</td>\n",
       "      <td>0.453617</td>\n",
       "      <td>0.403865</td>\n",
       "      <td>0.439041</td>\n",
       "      <td>0.999980</td>\n",
       "      <td>0.822932</td>\n",
       "      <td>...</td>\n",
       "      <td>0.857247</td>\n",
       "      <td>0.168831</td>\n",
       "      <td>0.855785</td>\n",
       "      <td>0.128027</td>\n",
       "      <td>0.565725</td>\n",
       "      <td>real</td>\n",
       "      <td>old</td>\n",
       "      <td>1</td>\n",
       "      <td>1</td>\n",
       "      <td>0</td>\n",
       "    </tr>\n",
       "    <tr>\n",
       "      <th>2</th>\n",
       "      <td>0.475744</td>\n",
       "      <td>0.736010</td>\n",
       "      <td>0.329358</td>\n",
       "      <td>0.131871</td>\n",
       "      <td>0.230711</td>\n",
       "      <td>0.406413</td>\n",
       "      <td>0.341277</td>\n",
       "      <td>0.425396</td>\n",
       "      <td>0.999980</td>\n",
       "      <td>0.821848</td>\n",
       "      <td>...</td>\n",
       "      <td>0.830264</td>\n",
       "      <td>0.085714</td>\n",
       "      <td>0.833536</td>\n",
       "      <td>0.187434</td>\n",
       "      <td>0.539743</td>\n",
       "      <td>real</td>\n",
       "      <td>old</td>\n",
       "      <td>1</td>\n",
       "      <td>1</td>\n",
       "      <td>0</td>\n",
       "    </tr>\n",
       "    <tr>\n",
       "      <th>3</th>\n",
       "      <td>0.467725</td>\n",
       "      <td>0.747534</td>\n",
       "      <td>0.298004</td>\n",
       "      <td>0.164152</td>\n",
       "      <td>0.251332</td>\n",
       "      <td>0.408496</td>\n",
       "      <td>0.348318</td>\n",
       "      <td>0.425571</td>\n",
       "      <td>0.999980</td>\n",
       "      <td>0.821093</td>\n",
       "      <td>...</td>\n",
       "      <td>0.845881</td>\n",
       "      <td>0.085714</td>\n",
       "      <td>0.836921</td>\n",
       "      <td>0.204224</td>\n",
       "      <td>0.515881</td>\n",
       "      <td>real</td>\n",
       "      <td>old</td>\n",
       "      <td>1</td>\n",
       "      <td>1</td>\n",
       "      <td>0</td>\n",
       "    </tr>\n",
       "    <tr>\n",
       "      <th>4</th>\n",
       "      <td>0.462091</td>\n",
       "      <td>0.762350</td>\n",
       "      <td>0.303539</td>\n",
       "      <td>0.227041</td>\n",
       "      <td>0.270121</td>\n",
       "      <td>0.475422</td>\n",
       "      <td>0.389453</td>\n",
       "      <td>0.425351</td>\n",
       "      <td>0.999980</td>\n",
       "      <td>0.822893</td>\n",
       "      <td>...</td>\n",
       "      <td>0.845616</td>\n",
       "      <td>0.075325</td>\n",
       "      <td>0.850835</td>\n",
       "      <td>0.164658</td>\n",
       "      <td>0.457622</td>\n",
       "      <td>real</td>\n",
       "      <td>old</td>\n",
       "      <td>1</td>\n",
       "      <td>1</td>\n",
       "      <td>0</td>\n",
       "    </tr>\n",
       "  </tbody>\n",
       "</table>\n",
       "<p>5 rows × 85 columns</p>\n",
       "</div>"
      ],
      "text/plain": [
       "    Avgaccx   Avgaccy   Avgaccz    AvgSVM   Stdaccx   Stdaccy   Stdaccz  \\\n",
       "0  0.479156  0.786340  0.347873  0.203072  0.240925  0.432716  0.414227   \n",
       "1  0.473937  0.761727  0.339709  0.196802  0.254297  0.453617  0.403865   \n",
       "2  0.475744  0.736010  0.329358  0.131871  0.230711  0.406413  0.341277   \n",
       "3  0.467725  0.747534  0.298004  0.164152  0.251332  0.408496  0.348318   \n",
       "4  0.462091  0.762350  0.303539  0.227041  0.270121  0.475422  0.389453   \n",
       "\n",
       "     StdSVM   Entaccx   Entaccy  ...     Adf3z   meandfz     APSDz     speed  \\\n",
       "0  0.420654  0.999982  0.821833  ...  0.881799  0.137662  0.858917  0.069012   \n",
       "1  0.439041  0.999980  0.822932  ...  0.857247  0.168831  0.855785  0.128027   \n",
       "2  0.425396  0.999980  0.821848  ...  0.830264  0.085714  0.833536  0.187434   \n",
       "3  0.425571  0.999980  0.821093  ...  0.845881  0.085714  0.836921  0.204224   \n",
       "4  0.425351  0.999980  0.822893  ...  0.845616  0.075325  0.850835  0.164658   \n",
       "\n",
       "        ele  data_type  person_age  person_id  sensor_id  activitylabel  \n",
       "0  0.562001       real         old          1          1              0  \n",
       "1  0.565725       real         old          1          1              0  \n",
       "2  0.539743       real         old          1          1              0  \n",
       "3  0.515881       real         old          1          1              0  \n",
       "4  0.457622       real         old          1          1              0  \n",
       "\n",
       "[5 rows x 85 columns]"
      ]
     },
     "execution_count": 12,
     "metadata": {},
     "output_type": "execute_result"
    }
   ],
   "source": [
    "# =====================================================\n",
    "# ================== Preprocess data ==================\n",
    "# =====================================================\n",
    "# scale features\n",
    "scaler = MinMaxScaler()\n",
    "scaled = scaler.fit_transform(df[col_features])\n",
    "scaled_df = pd.DataFrame(scaled, columns=col_features)\n",
    "# copy metadata and labels from unscaled dataframe\n",
    "for col in col_metadata:\n",
    "    scaled_df[col] = list(df[col])\n",
    "scaled_df[col_label] = list(df[col_label])\n",
    "scaled_df.head()\n",
    "df_full = scaled_df\n",
    "\n",
    "# encode labels\n",
    "labels_full = df_full[col_label].unique()\n",
    "\n",
    "# create encoding dictionaries\n",
    "class2idx = {elem: idx for (idx, elem) in enumerate(labels_full)}\n",
    "idx2class = {v: k for k, v in class2idx.items()}\n",
    "df_full[col_label].replace(class2idx, inplace=True)\n",
    "\n",
    "# show new dataframe\n",
    "df_full.head()"
   ]
  },
  {
   "cell_type": "markdown",
   "id": "53813bc7",
   "metadata": {},
   "source": [
    "### Scenario 1 -- Young only"
   ]
  },
  {
   "cell_type": "code",
   "execution_count": 47,
   "id": "dbbce5a1",
   "metadata": {
    "scrolled": false
   },
   "outputs": [
    {
     "name": "stderr",
     "output_type": "stream",
     "text": [
      "100%|█████████████████████████████████████████████████████████████████████████████████| 150/150 [15:42<00:00,  6.28s/it]\n"
     ]
    },
    {
     "name": "stdout",
     "output_type": "stream",
     "text": [
      "L1SO #1 -- Train Loss: 0.07280 | Val Loss: 0.20481 | Train Acc: 95.65% | Val Acc: 93.04% | Test Acc: 59.05%\n"
     ]
    },
    {
     "name": "stderr",
     "output_type": "stream",
     "text": [
      "100%|█████████████████████████████████████████████████████████████████████████████████| 150/150 [15:04<00:00,  6.03s/it]\n"
     ]
    },
    {
     "name": "stdout",
     "output_type": "stream",
     "text": [
      "L1SO #2 -- Train Loss: 0.08119 | Val Loss: 0.20682 | Train Acc: 95.34% | Val Acc: 92.69% | Test Acc: 60.14%\n"
     ]
    },
    {
     "name": "stderr",
     "output_type": "stream",
     "text": [
      "100%|█████████████████████████████████████████████████████████████████████████████████| 150/150 [14:09<00:00,  5.66s/it]\n"
     ]
    },
    {
     "name": "stdout",
     "output_type": "stream",
     "text": [
      "L1SO #3 -- Train Loss: 0.08262 | Val Loss: 0.22687 | Train Acc: 95.33% | Val Acc: 91.74% | Test Acc: 58.97%\n"
     ]
    },
    {
     "name": "stderr",
     "output_type": "stream",
     "text": [
      "100%|█████████████████████████████████████████████████████████████████████████████████| 150/150 [15:06<00:00,  6.04s/it]\n"
     ]
    },
    {
     "name": "stdout",
     "output_type": "stream",
     "text": [
      "L1SO #4 -- Train Loss: 0.07256 | Val Loss: 0.23674 | Train Acc: 95.50% | Val Acc: 91.90% | Test Acc: 66.80%\n"
     ]
    },
    {
     "name": "stderr",
     "output_type": "stream",
     "text": [
      "100%|█████████████████████████████████████████████████████████████████████████████████| 150/150 [14:35<00:00,  5.84s/it]\n"
     ]
    },
    {
     "name": "stdout",
     "output_type": "stream",
     "text": [
      "L1SO #5 -- Train Loss: 0.07374 | Val Loss: 0.24353 | Train Acc: 95.61% | Val Acc: 91.34% | Test Acc: 48.51%\n"
     ]
    },
    {
     "name": "stderr",
     "output_type": "stream",
     "text": [
      "100%|█████████████████████████████████████████████████████████████████████████████████| 150/150 [14:47<00:00,  5.92s/it]\n"
     ]
    },
    {
     "name": "stdout",
     "output_type": "stream",
     "text": [
      "L1SO #6 -- Train Loss: 0.07072 | Val Loss: 0.21869 | Train Acc: 95.89% | Val Acc: 92.64% | Test Acc: 47.79%\n"
     ]
    },
    {
     "name": "stderr",
     "output_type": "stream",
     "text": [
      "100%|█████████████████████████████████████████████████████████████████████████████████| 150/150 [14:41<00:00,  5.88s/it]\n"
     ]
    },
    {
     "name": "stdout",
     "output_type": "stream",
     "text": [
      "L1SO #7 -- Train Loss: 0.07332 | Val Loss: 0.20215 | Train Acc: 95.76% | Val Acc: 92.97% | Test Acc: 52.35%\n"
     ]
    },
    {
     "name": "stderr",
     "output_type": "stream",
     "text": [
      "100%|█████████████████████████████████████████████████████████████████████████████████| 150/150 [14:48<00:00,  5.92s/it]\n"
     ]
    },
    {
     "name": "stdout",
     "output_type": "stream",
     "text": [
      "L1SO #8 -- Train Loss: 0.06435 | Val Loss: 0.25757 | Train Acc: 95.91% | Val Acc: 91.10% | Test Acc: 61.09%\n"
     ]
    },
    {
     "name": "stderr",
     "output_type": "stream",
     "text": [
      "100%|█████████████████████████████████████████████████████████████████████████████████| 150/150 [14:43<00:00,  5.89s/it]\n"
     ]
    },
    {
     "name": "stdout",
     "output_type": "stream",
     "text": [
      "L1SO #9 -- Train Loss: 0.07779 | Val Loss: 0.23536 | Train Acc: 95.37% | Val Acc: 91.46% | Test Acc: 66.01%\n"
     ]
    },
    {
     "name": "stderr",
     "output_type": "stream",
     "text": [
      "100%|█████████████████████████████████████████████████████████████████████████████████| 150/150 [14:59<00:00,  6.00s/it]\n"
     ]
    },
    {
     "name": "stdout",
     "output_type": "stream",
     "text": [
      "L1SO #10 -- Train Loss: 0.06942 | Val Loss: 0.20204 | Train Acc: 96.05% | Val Acc: 93.45% | Test Acc: 55.82%\n"
     ]
    }
   ],
   "source": [
    "# ====================== TRAIN models ======================\n",
    "all_loss_stats_young = []\n",
    "all_acc_stats_young = []\n",
    "all_test_conf_mat_young = []\n",
    "all_test_acc_young = []\n",
    "all_test_precision_young = []\n",
    "all_test_recall_young = []\n",
    "all_test_f1_young = []\n",
    "\n",
    "\n",
    "# Performs L1SO training for each person\n",
    "for id_excluded in range(1, 11):\n",
    "    # ======================================================\n",
    "    # ======== Split data into train - val - test ==========\n",
    "    # ======================================================\n",
    "    PCA_REDUCTION = False\n",
    "    K_BEST_REDUCTION = 50\n",
    "    # ======================================================\n",
    "    # ======================================================\n",
    "\n",
    "    X_full = df_full.loc[:, col_features]\n",
    "    y_full = df_full.loc[:, col_label]\n",
    "\n",
    "    # get train and test ids based on the excluded persons\n",
    "    ids_train = list(set(df_full.index[df_full['person_id'] != id_excluded]).intersection(set(df_full.index[df_full['person_age'] == \"young\"])))\n",
    "    ids_test = list(set(df_full.index[df_full['person_id'] == id_excluded]).intersection(set(df_full.index[df_full['person_age'] == \"old\"])))\n",
    "\n",
    "    # get train and test data\n",
    "    if (PCA_REDUCTION):\n",
    "        pca = PCA(n_components=0.99)\n",
    "        X_full_transformed = pca.fit_transform(X_full)\n",
    "        num_features = X_full_transformed.shape[1]\n",
    "#         print(f'PCA kept {num_features} features out of a total of {X_full.shape[1]}.')\n",
    "        X_young_train = X_full_transformed[ids_train, :]\n",
    "        X_young_test = X_full_transformed[ids_test, :]\n",
    "        \n",
    "    elif (K_BEST_REDUCTION is not False):\n",
    "        kbest = SelectKBest(score_func=chi2, k=K_BEST_REDUCTION)\n",
    "        kbest_fit = kbest.fit(X_full, y_full)\n",
    "        \n",
    "        X_full_transformed = kbest_fit.transform(X_full)\n",
    "        num_features = X_full_transformed.shape[1]\n",
    "#         print(f'K-Best kept {num_features} features out of a total of {X_full.shape[1]}.')\n",
    "        X_young_train = X_full_transformed[ids_train, :]\n",
    "        X_young_test = X_full_transformed[ids_test, :]\n",
    "        \n",
    "    else:\n",
    "        num_features = X_full.shape[1]\n",
    "        X_young_train = X_full.iloc[ids_train, :]\n",
    "        X_young_test = X_full.iloc[ids_test, :]\n",
    "\n",
    "    y_young_train = y_full.iloc[ids_train]\n",
    "    y_young_test = y_full.iloc[ids_test]\n",
    "\n",
    "    # further split train data into train and val\n",
    "    X_young_train, X_young_val, y_young_train, y_young_val = \\\n",
    "        train_test_split(X_young_train, y_young_train, test_size=0.1, stratify=y_young_train, random_state=42)\n",
    "\n",
    "    # transform all to numpy arrays\n",
    "    X_young_train, y_young_train = np.array(X_young_train), np.array(y_young_train)\n",
    "    X_young_val, y_young_val = np.array(X_young_val), np.array(y_young_val)\n",
    "    X_young_test, y_young_test = np.array(X_young_test), np.array(y_young_test)\n",
    "\n",
    "    # show the length of each partition\n",
    "    # print(f\"L1SO #{id_excluded} -- train: {X_young_train.shape[0]} | val: {X_young_val.shape[0]} | test: {X_young_test.shape[0]}\")\n",
    "\n",
    "    # =====================================================\n",
    "    # ========= create dataset for classification =========\n",
    "    # =====================================================\n",
    "    train_dataset = ClassifierDataset(torch.from_numpy(X_young_train).float(), torch.from_numpy(y_young_train).long())\n",
    "    val_dataset = ClassifierDataset(torch.from_numpy(X_young_val).float(), torch.from_numpy(y_young_val).long())\n",
    "    test_dataset = ClassifierDataset(torch.from_numpy(X_young_test).float(), torch.from_numpy(y_young_test).long())\n",
    "\n",
    "    # ======================================================\n",
    "    # ============ initialize weighted sampling ============\n",
    "    # ======================================================\n",
    "    target_list = []\n",
    "    for _, t in train_dataset:\n",
    "        target_list.append(t)\n",
    "\n",
    "    target_list = torch.tensor(target_list)\n",
    "\n",
    "    class_count = [i for i in get_class_distribution(y_young_train, labels_full, idx2class).values()]\n",
    "    class_weights = 1. / torch.tensor(class_count, dtype=torch.float) \n",
    "\n",
    "    class_weights_all = class_weights[target_list]\n",
    "\n",
    "    weighted_sampler = WeightedRandomSampler(\n",
    "        weights=class_weights_all,\n",
    "        num_samples=len(class_weights_all),\n",
    "        replacement=True\n",
    "    )\n",
    "\n",
    "    # ====================================================\n",
    "    # ============== Define Hyperparameters ==============\n",
    "    # ====================================================\n",
    "    EPOCHS = 150\n",
    "    BATCH_SIZE = 512\n",
    "    LEARNING_RATE = 0.0003\n",
    "    NUM_FEATURES = num_features\n",
    "    NUM_CLASSES = len(labels_full)\n",
    "\n",
    "    # ====================================================\n",
    "    # ================ Create dataloaders ================\n",
    "    # ====================================================\n",
    "    train_loader = DataLoader(dataset=train_dataset,\n",
    "                              batch_size=BATCH_SIZE,\n",
    "                              sampler=weighted_sampler\n",
    "    )\n",
    "    val_loader = DataLoader(dataset=val_dataset, batch_size=1)\n",
    "    test_loader = DataLoader(dataset=test_dataset, batch_size=1)\n",
    "\n",
    "    # ====================================================\n",
    "    # ============ Define model and optimizer ============\n",
    "    # ====================================================\n",
    "    model_young = ANN(num_feature = NUM_FEATURES, num_class=NUM_CLASSES)\n",
    "    model_young.to(device)\n",
    "\n",
    "    criterion = nn.CrossEntropyLoss(weight=class_weights.to(device))\n",
    "    optimizer = optim.AdamW(model_young.parameters(), lr=LEARNING_RATE)\n",
    "\n",
    "    # ============================================================\n",
    "    # ==== Dictionaries to store history of accuracy and loss ====\n",
    "    # ============================================================\n",
    "    accuracy_stats_young = {\n",
    "        'train': [],\n",
    "        \"val\": []\n",
    "    }\n",
    "    loss_stats_young = {\n",
    "        'train': [],\n",
    "        \"val\": []\n",
    "    }\n",
    "\n",
    "    # ====================================================\n",
    "    # ================= Train the model ==================\n",
    "    # ====================================================\n",
    "    # print(\"Begin training.\")\n",
    "    for e in tqdm(range(1, EPOCHS+1)):\n",
    "        # TRAIN    \n",
    "        train_epoch_loss = 0\n",
    "        train_epoch_acc = 0\n",
    "\n",
    "        model_young.train()\n",
    "        for X_train_batch, y_train_batch in train_loader:\n",
    "            X_train_batch, y_train_batch = X_train_batch.to(device), y_train_batch.to(device)\n",
    "            optimizer.zero_grad()\n",
    "\n",
    "            y_train_pred = model_young(X_train_batch)\n",
    "\n",
    "            train_loss = criterion(y_train_pred, y_train_batch)\n",
    "            train_acc = multi_acc(y_train_pred, y_train_batch)\n",
    "\n",
    "            train_loss.backward()\n",
    "            optimizer.step()\n",
    "\n",
    "            train_epoch_loss += train_loss.item()\n",
    "            train_epoch_acc += train_acc.item()\n",
    "\n",
    "\n",
    "        # VALIDATION    \n",
    "        with torch.no_grad():\n",
    "            val_epoch_loss = 0\n",
    "            val_epoch_acc = 0\n",
    "\n",
    "            model_young.eval()\n",
    "            for X_val_batch, y_val_batch in val_loader:\n",
    "                X_val_batch, y_val_batch = X_val_batch.to(device), y_val_batch.to(device)\n",
    "\n",
    "                y_val_pred = model_young(X_val_batch)\n",
    "\n",
    "                val_loss = criterion(y_val_pred, y_val_batch)\n",
    "                val_acc = multi_acc(y_val_pred, y_val_batch)\n",
    "\n",
    "                val_epoch_loss += val_loss.item()\n",
    "                val_epoch_acc += val_acc.item()\n",
    "\n",
    "        loss_stats_young['train'].append(train_epoch_loss/len(train_loader))\n",
    "        loss_stats_young['val'].append(val_epoch_loss/len(val_loader))\n",
    "        accuracy_stats_young['train'].append(train_epoch_acc/len(train_loader))\n",
    "        accuracy_stats_young['val'].append(val_epoch_acc/len(val_loader))\n",
    "\n",
    "\n",
    "    #     print(f'Epoch {e+0:03}: | Train Loss: {train_epoch_loss/len(train_loader):.5f} | Val Loss: {val_epoch_loss/len(val_loader):.5f} | Train Acc: {train_epoch_acc/len(train_loader):.3f}| Val Acc: {val_epoch_acc/len(val_loader):.3f}')\n",
    "\n",
    "    # Get final accuracy and loss\n",
    "    final_loss_train = loss_stats_young['train'][-1]\n",
    "    final_loss_val = loss_stats_young['val'][-1]\n",
    "    final_acc_train = accuracy_stats_young['train'][-1]\n",
    "    final_acc_val = accuracy_stats_young['val'][-1]\n",
    "    \n",
    "    all_loss_stats_young.append(loss_stats_young)\n",
    "    all_acc_stats_young.append(accuracy_stats_young)\n",
    "\n",
    "    # =================================================\n",
    "    # ================== Test model ===================\n",
    "    # =================================================\n",
    "    y_pred_list = []\n",
    "    with torch.no_grad():\n",
    "        model_young.eval()\n",
    "        for X_batch, _ in test_loader:\n",
    "            X_batch = X_batch.to(device)\n",
    "            y_test_pred = model_young(X_batch)\n",
    "            _, y_pred_tags = torch.max(y_test_pred, dim = 1)\n",
    "            y_pred_list.append(y_pred_tags.cpu().numpy())\n",
    "    y_pred_list = [a.squeeze().tolist() for a in y_pred_list]\n",
    "\n",
    "    # =================================================\n",
    "    # ====== Confusion matrix and other metrics =======\n",
    "    # =================================================\n",
    "    all_test_conf_mat_young.append(confusion_matrix(y_young_test, y_pred_list))\n",
    "\n",
    "    test_acc_young = accuracy_score(y_young_test, y_pred_list)\n",
    "    all_test_acc_young.append(test_acc_young)\n",
    "    test_precision_young, test_recall_young, test_fscore_young, _ = \\\n",
    "        precision_recall_fscore_support(y_young_test, y_pred_list, zero_division=0)\n",
    "    \n",
    "    all_test_precision_young.append(test_precision_young)\n",
    "    all_test_recall_young.append(test_recall_young)\n",
    "    all_test_f1_young.append(test_fscore_young)\n",
    "    \n",
    "    print(f'L1SO #{id_excluded} -- Train Loss: {final_loss_train:.5f} | Val Loss: {final_loss_val:.5f} | Train Acc: {final_acc_train:.2f}% | Val Acc: {final_acc_val:.2f}% | Test Acc: {test_acc_young*100:.2f}%')\n",
    "    \n",
    "    # Save model on disk\n",
    "    torch.save({\n",
    "            'epoch': EPOCHS,\n",
    "            'model_state_dict': model_young.state_dict(),\n",
    "            'optimizer_state_dict': optimizer.state_dict(),\n",
    "            'loss': final_loss_train,\n",
    "            }, f'models/young/checkpoints/l1so_{id_excluded}.ckpt')\n",
    "    \n",
    "\n",
    "# =================================================\n",
    "# ===== Save models stats and metrics on disk =====\n",
    "# =================================================\n",
    "model_stats_young = {\"epoch_loss\": all_loss_stats_young,\n",
    "                    \"epoch_acc\": all_acc_stats_young,\n",
    "                    \"predictions\": y_pred_list,\n",
    "                    \"conf_mat\": all_test_conf_mat_young,\n",
    "                    \"test_acc\": all_test_acc_young,\n",
    "                    \"test_precision\": all_test_precision_young,\n",
    "                    \"test_recall\": all_test_recall_young,\n",
    "                    \"test_f1\": all_test_f1_young}\n",
    "\n",
    "with open('models/young/stats_model.pickle', 'wb') as handle:\n",
    "    pickle.dump(model_stats_young, handle, protocol=pickle.HIGHEST_PROTOCOL)"
   ]
  },
  {
   "cell_type": "code",
   "execution_count": 48,
   "id": "358e8a16",
   "metadata": {},
   "outputs": [],
   "source": [
    "# ==========================================================\n",
    "# ======= Load dictionary with stats about the model =======\n",
    "# ==========================================================\n",
    "with open('models/young/stats_model.pickle', 'rb') as handle:\n",
    "    model_stats_young = pickle.load(handle)"
   ]
  },
  {
   "cell_type": "code",
   "execution_count": 49,
   "id": "9c387ad9",
   "metadata": {},
   "outputs": [
    {
     "data": {
      "text/plain": [
       "Text(0.5, 1.0, 'Average Train-Val Loss (per Epoch)')"
      ]
     },
     "execution_count": 49,
     "metadata": {},
     "output_type": "execute_result"
    },
    {
     "data": {
      "image/png": "[encoded data removed]",
      "text/plain": [
       "<Figure size 1440x504 with 2 Axes>"
      ]
     },
     "metadata": {
      "needs_background": "light"
     },
     "output_type": "display_data"
    }
   ],
   "source": [
    "# ===========================================================\n",
    "# ====== Visualize loss and accuracy for train and val ======\n",
    "# ===========================================================\n",
    "# Get mean accuracy\n",
    "avg_accuracy_train = [np.mean([d['train'][idx] for d in model_stats_young['epoch_acc']]) for idx in range(len(model_stats_young['epoch_acc'][0]['train']))]\n",
    "avg_accuracy_val = [np.mean([d['val'][idx] for d in model_stats_young['epoch_acc']]) for idx in range(len(model_stats_young['epoch_acc'][0]['val']))]\n",
    "accuracy_stats_young = {\"train\": avg_accuracy_train,\n",
    "                       \"val\": avg_accuracy_val}\n",
    "\n",
    "# Get mean loss\n",
    "avg_loss_train = [np.mean([d['train'][idx] for d in model_stats_young['epoch_loss']]) for idx in range(len(model_stats_young['epoch_loss'][0]['train']))]\n",
    "avg_loss_val = [np.mean([d['val'][idx] for d in model_stats_young['epoch_loss']]) for idx in range(len(model_stats_young['epoch_loss'][0]['val']))]\n",
    "loss_stats_young = {\"train\": avg_loss_train,\n",
    "                   \"val\": avg_loss_val}\n",
    "\n",
    "# Create dataframes\n",
    "train_val_acc_df = pd.DataFrame.from_dict(accuracy_stats_young).reset_index().melt(id_vars=['index']).rename(columns={\"index\":\"epochs\"})\n",
    "train_val_loss_df = pd.DataFrame.from_dict(loss_stats_young).reset_index().melt(id_vars=['index']).rename(columns={\"index\":\"epochs\"})\n",
    "# Plot the dataframes\n",
    "fig, axes = plt.subplots(nrows=1, ncols=2, figsize=(20,7))\n",
    "sns.lineplot(data=train_val_acc_df, x = \"epochs\", y=\"value\", hue=\"variable\",  ax=axes[0]).set_title('Average Train-Val Accuracy (per Epoch)')\n",
    "sns.lineplot(data=train_val_loss_df, x = \"epochs\", y=\"value\", hue=\"variable\", ax=axes[1]).set_title('Average Train-Val Loss (per Epoch)')"
   ]
  },
  {
   "cell_type": "code",
   "execution_count": 19,
   "id": "b1103327",
   "metadata": {},
   "outputs": [
    {
     "name": "stdout",
     "output_type": "stream",
     "text": [
      "Average accuracy: 57.55%\n"
     ]
    },
    {
     "data": {
      "text/html": [
       "<div>\n",
       "<style scoped>\n",
       "    .dataframe tbody tr th:only-of-type {\n",
       "        vertical-align: middle;\n",
       "    }\n",
       "\n",
       "    .dataframe tbody tr th {\n",
       "        vertical-align: top;\n",
       "    }\n",
       "\n",
       "    .dataframe thead th {\n",
       "        text-align: right;\n",
       "    }\n",
       "</style>\n",
       "<table border=\"1\" class=\"dataframe\">\n",
       "  <thead>\n",
       "    <tr style=\"text-align: right;\">\n",
       "      <th></th>\n",
       "      <th>Label</th>\n",
       "      <th>Precision</th>\n",
       "      <th>Recall</th>\n",
       "      <th>F1-score</th>\n",
       "    </tr>\n",
       "  </thead>\n",
       "  <tbody>\n",
       "    <tr>\n",
       "      <th>0</th>\n",
       "      <td>Non-level walking</td>\n",
       "      <td>39.77</td>\n",
       "      <td>71.80</td>\n",
       "      <td>50.32</td>\n",
       "    </tr>\n",
       "    <tr>\n",
       "      <th>1</th>\n",
       "      <td>Walking</td>\n",
       "      <td>76.95</td>\n",
       "      <td>41.27</td>\n",
       "      <td>50.36</td>\n",
       "    </tr>\n",
       "    <tr>\n",
       "      <th>2</th>\n",
       "      <td>Running</td>\n",
       "      <td>83.62</td>\n",
       "      <td>80.65</td>\n",
       "      <td>80.69</td>\n",
       "    </tr>\n",
       "    <tr>\n",
       "      <th>3</th>\n",
       "      <td>Standing</td>\n",
       "      <td>67.82</td>\n",
       "      <td>46.46</td>\n",
       "      <td>53.77</td>\n",
       "    </tr>\n",
       "    <tr>\n",
       "      <th>4</th>\n",
       "      <td>Lying</td>\n",
       "      <td>84.59</td>\n",
       "      <td>80.33</td>\n",
       "      <td>81.34</td>\n",
       "    </tr>\n",
       "    <tr>\n",
       "      <th>5</th>\n",
       "      <td>Sitting</td>\n",
       "      <td>53.95</td>\n",
       "      <td>73.57</td>\n",
       "      <td>61.23</td>\n",
       "    </tr>\n",
       "  </tbody>\n",
       "</table>\n",
       "</div>"
      ],
      "text/plain": [
       "               Label  Precision  Recall  F1-score\n",
       "0  Non-level walking      39.77   71.80     50.32\n",
       "1            Walking      76.95   41.27     50.36\n",
       "2            Running      83.62   80.65     80.69\n",
       "3           Standing      67.82   46.46     53.77\n",
       "4              Lying      84.59   80.33     81.34\n",
       "5            Sitting      53.95   73.57     61.23"
      ]
     },
     "execution_count": 19,
     "metadata": {},
     "output_type": "execute_result"
    }
   ],
   "source": [
    "# =======================================================\n",
    "# === Show additional metrics (precision, recall, F1) ===\n",
    "# =======================================================\n",
    "print(f\"Average accuracy: {np.mean(np.array(model_stats_young['test_acc'])) * 100:.2f}%\")\n",
    "\n",
    "avg_test_precision = np.mean(np.stack(model_stats_young['test_precision']), axis=0) * 100\n",
    "avg_test_recall = np.mean(np.stack(model_stats_young['test_recall']), axis=0) * 100\n",
    "avg_test_f1 = np.mean(np.stack(model_stats_young['test_f1']), axis=0) * 100\n",
    "\n",
    "test_metrics_df_young = pd.DataFrame()\n",
    "test_metrics_df_young['Label'] = labels_full\n",
    "test_metrics_df_young['Precision'] = avg_test_precision\n",
    "test_metrics_df_young['Precision'] = avg_test_precision\n",
    "test_metrics_df_young['Recall'] = avg_test_recall\n",
    "test_metrics_df_young['F1-score'] = avg_test_f1\n",
    "test_metrics_df_young = test_metrics_df_young.round(decimals=2)\n",
    "\n",
    "test_metrics_df_young"
   ]
  },
  {
   "cell_type": "code",
   "execution_count": 50,
   "id": "8c20c281",
   "metadata": {},
   "outputs": [
    {
     "data": {
      "text/plain": [
       "<AxesSubplot:>"
      ]
     },
     "execution_count": 50,
     "metadata": {},
     "output_type": "execute_result"
    },
    {
     "data": {
      "image/png": "[encoded data removed]",
      "text/plain": [
       "<Figure size 792x576 with 2 Axes>"
      ]
     },
     "metadata": {
      "needs_background": "light"
     },
     "output_type": "display_data"
    }
   ],
   "source": [
    "# =======================================================\n",
    "# ======== Visualize confusion matrix (averaged) ========\n",
    "# =======================================================\n",
    "avg_conf_mat = np.sum(np.array(model_stats_young['conf_mat']), axis=0).astype(np.int32)\n",
    "confusion_matrix_df = pd.DataFrame(avg_conf_mat).rename(columns=idx2class, index=idx2class)\n",
    "\n",
    "a4_dims = (11, 8)\n",
    "fig, ax = plt.subplots(figsize=a4_dims)\n",
    "sns.heatmap(confusion_matrix_df, annot=True, fmt=\"d\")"
   ]
  },
  {
   "cell_type": "markdown",
   "id": "25b6cf95",
   "metadata": {},
   "source": [
    "### Scenario 2 -- Younger + older adults"
   ]
  },
  {
   "cell_type": "code",
   "execution_count": 14,
   "id": "b6499205",
   "metadata": {
    "scrolled": true
   },
   "outputs": [
    {
     "name": "stderr",
     "output_type": "stream",
     "text": [
      "100%|█████████████████████████████████████████████████████████████████████████████████| 150/150 [17:47<00:00,  7.12s/it]\n"
     ]
    },
    {
     "name": "stdout",
     "output_type": "stream",
     "text": [
      "L1SO #1 -- Train Loss: 0.01675 | Val Loss: 0.08234 | Train Acc: 98.43% | Val Acc: 97.18% | Test Acc: 73.39%\n"
     ]
    },
    {
     "name": "stderr",
     "output_type": "stream",
     "text": [
      "100%|█████████████████████████████████████████████████████████████████████████████████| 150/150 [17:56<00:00,  7.18s/it]\n"
     ]
    },
    {
     "name": "stdout",
     "output_type": "stream",
     "text": [
      "L1SO #2 -- Train Loss: 0.02199 | Val Loss: 0.11760 | Train Acc: 97.95% | Val Acc: 96.32% | Test Acc: 65.95%\n"
     ]
    },
    {
     "name": "stderr",
     "output_type": "stream",
     "text": [
      "100%|█████████████████████████████████████████████████████████████████████████████████| 150/150 [17:59<00:00,  7.20s/it]\n"
     ]
    },
    {
     "name": "stdout",
     "output_type": "stream",
     "text": [
      "L1SO #3 -- Train Loss: 0.01996 | Val Loss: 0.09758 | Train Acc: 98.22% | Val Acc: 97.02% | Test Acc: 62.97%\n"
     ]
    },
    {
     "name": "stderr",
     "output_type": "stream",
     "text": [
      "100%|█████████████████████████████████████████████████████████████████████████████████| 150/150 [18:13<00:00,  7.29s/it]\n"
     ]
    },
    {
     "name": "stdout",
     "output_type": "stream",
     "text": [
      "L1SO #4 -- Train Loss: 0.01685 | Val Loss: 0.08868 | Train Acc: 98.36% | Val Acc: 97.27% | Test Acc: 64.95%\n"
     ]
    },
    {
     "name": "stderr",
     "output_type": "stream",
     "text": [
      "100%|█████████████████████████████████████████████████████████████████████████████████| 150/150 [18:08<00:00,  7.26s/it]\n"
     ]
    },
    {
     "name": "stdout",
     "output_type": "stream",
     "text": [
      "L1SO #5 -- Train Loss: 0.01726 | Val Loss: 0.18419 | Train Acc: 98.36% | Val Acc: 93.48% | Test Acc: 68.54%\n"
     ]
    },
    {
     "name": "stderr",
     "output_type": "stream",
     "text": [
      "100%|█████████████████████████████████████████████████████████████████████████████████| 150/150 [17:58<00:00,  7.19s/it]\n"
     ]
    },
    {
     "name": "stdout",
     "output_type": "stream",
     "text": [
      "L1SO #6 -- Train Loss: 0.01708 | Val Loss: 0.15411 | Train Acc: 98.38% | Val Acc: 94.72% | Test Acc: 59.90%\n"
     ]
    },
    {
     "name": "stderr",
     "output_type": "stream",
     "text": [
      "100%|█████████████████████████████████████████████████████████████████████████████████| 150/150 [17:44<00:00,  7.09s/it]\n"
     ]
    },
    {
     "name": "stdout",
     "output_type": "stream",
     "text": [
      "L1SO #7 -- Train Loss: 0.01840 | Val Loss: 0.10740 | Train Acc: 98.26% | Val Acc: 96.29% | Test Acc: 72.37%\n"
     ]
    },
    {
     "name": "stderr",
     "output_type": "stream",
     "text": [
      "100%|█████████████████████████████████████████████████████████████████████████████████| 150/150 [18:33<00:00,  7.43s/it]\n"
     ]
    },
    {
     "name": "stdout",
     "output_type": "stream",
     "text": [
      "L1SO #8 -- Train Loss: 0.01711 | Val Loss: 0.11417 | Train Acc: 98.42% | Val Acc: 96.29% | Test Acc: 66.13%\n"
     ]
    },
    {
     "name": "stderr",
     "output_type": "stream",
     "text": [
      "100%|█████████████████████████████████████████████████████████████████████████████████| 150/150 [17:59<00:00,  7.20s/it]\n"
     ]
    },
    {
     "name": "stdout",
     "output_type": "stream",
     "text": [
      "L1SO #9 -- Train Loss: 0.01755 | Val Loss: 0.12474 | Train Acc: 98.33% | Val Acc: 95.58% | Test Acc: 72.51%\n"
     ]
    },
    {
     "name": "stderr",
     "output_type": "stream",
     "text": [
      "100%|█████████████████████████████████████████████████████████████████████████████████| 150/150 [18:18<00:00,  7.32s/it]\n"
     ]
    },
    {
     "name": "stdout",
     "output_type": "stream",
     "text": [
      "L1SO #10 -- Train Loss: 0.01601 | Val Loss: 0.09874 | Train Acc: 98.54% | Val Acc: 96.86% | Test Acc: 61.47%\n"
     ]
    }
   ],
   "source": [
    "# ====================== TRAIN models ======================\n",
    "all_loss_stats_full = []\n",
    "all_acc_stats_full = []\n",
    "all_test_conf_mat_full = []\n",
    "all_test_acc_full = []\n",
    "all_test_precision_full = []\n",
    "all_test_recall_full = []\n",
    "all_test_f1_full = []\n",
    "\n",
    "\n",
    "# Performs L1SO training for each person\n",
    "for id_excluded in range(1, 11):\n",
    "    # ======================================================\n",
    "    # ======== Split data into train - val - test ==========\n",
    "    # ======================================================\n",
    "    PCA_REDUCTION = False\n",
    "    K_BEST_REDUCTION = False\n",
    "    # ======================================================\n",
    "    # ======================================================\n",
    "\n",
    "    X_full = df_full.loc[:, col_features]\n",
    "    y_full = df_full.loc[:, col_label]\n",
    "\n",
    "    # get train and test ids based on the excluded persons\n",
    "    ids_train = df_full.index[df_full['person_id'] != id_excluded].tolist()\n",
    "    ids_test = list(set(df_full.index[df_full['person_id'] == id_excluded]).intersection(set(df_full.index[df_full['person_age'] == \"old\"])))\n",
    "\n",
    "    # get train and test data\n",
    "    if (PCA_REDUCTION):\n",
    "        pca = PCA(n_components=0.99)\n",
    "        X_full_transformed = pca.fit_transform(X_full)\n",
    "        num_features = X_full_transformed.shape[1]\n",
    "        print(f'PCA kept {num_features} features out of a total of {X_full.shape[1]}.')\n",
    "        X_full_train = X_full_transformed[ids_train, :]\n",
    "        X_full_test = X_full_transformed[ids_test, :]\n",
    "        \n",
    "    elif (K_BEST_REDUCTION is not False):\n",
    "        kbest = SelectKBest(score_func=chi2, k=K_BEST_REDUCTION)\n",
    "        kbest_fit = kbest.fit(X_full, y_full)\n",
    "        \n",
    "        X_full_transformed = kbest_fit.transform(X_full)\n",
    "        num_features = X_full_transformed.shape[1]\n",
    "        print(f'K-Best kept {num_features} features out of a total of {X_full.shape[1]}.')\n",
    "        X_full_train = X_full_transformed[ids_train, :]\n",
    "        X_full_test = X_full_transformed[ids_test, :]\n",
    "\n",
    "    else:\n",
    "        num_features = X_full.shape[1]\n",
    "        X_full_train = X_full.iloc[ids_train, :]\n",
    "        X_full_test = X_full.iloc[ids_test, :]\n",
    "\n",
    "    y_full_train = y_full.iloc[ids_train]\n",
    "    y_full_test = y_full.iloc[ids_test]\n",
    "\n",
    "    # further split train data into train and val\n",
    "    X_full_train, X_full_val, y_full_train, y_full_val = \\\n",
    "        train_test_split(X_full_train, y_full_train, test_size=0.05, stratify=y_full_train, random_state=42)\n",
    "\n",
    "    # transform all to numpy arrays\n",
    "    X_full_train, y_full_train = np.array(X_full_train), np.array(y_full_train)\n",
    "    X_full_val, y_full_val = np.array(X_full_val), np.array(y_full_val)\n",
    "    X_full_test, y_full_test = np.array(X_full_test), np.array(y_full_test)\n",
    "\n",
    "    # show the length of each partition\n",
    "    # print(f\"L1SO #{id_excluded} -- train: {X_full_train.shape[0]} | val: {X_full_val.shape[0]} | test: {X_full_test.shape[0]}\")\n",
    "\n",
    "    # =====================================================\n",
    "    # ========= create dataset for classification =========\n",
    "    # =====================================================\n",
    "    train_dataset = ClassifierDataset(torch.from_numpy(X_full_train).float(), torch.from_numpy(y_full_train).long())\n",
    "    val_dataset = ClassifierDataset(torch.from_numpy(X_full_val).float(), torch.from_numpy(y_full_val).long())\n",
    "    test_dataset = ClassifierDataset(torch.from_numpy(X_full_test).float(), torch.from_numpy(y_full_test).long())\n",
    "\n",
    "    # ======================================================\n",
    "    # ============ initialize weighted sampling ============\n",
    "    # ======================================================\n",
    "    target_list = []\n",
    "    for _, t in train_dataset:\n",
    "        target_list.append(t)\n",
    "\n",
    "    target_list = torch.tensor(target_list)\n",
    "\n",
    "    class_count = [i for i in get_class_distribution(y_full_train, labels_full, idx2class).values()]\n",
    "    class_weights = 1. / torch.tensor(class_count, dtype=torch.float) \n",
    "\n",
    "    class_weights_all = class_weights[target_list]\n",
    "\n",
    "    weighted_sampler = WeightedRandomSampler(\n",
    "        weights=class_weights_all,\n",
    "        num_samples=len(class_weights_all),\n",
    "        replacement=True\n",
    "    )\n",
    "\n",
    "    # ====================================================\n",
    "    # ============== Define Hyperparameters ==============\n",
    "    # ====================================================\n",
    "    EPOCHS = 150\n",
    "    BATCH_SIZE = 512\n",
    "    LEARNING_RATE = 0.0003\n",
    "    NUM_FEATURES = num_features\n",
    "    NUM_CLASSES = len(labels_full)\n",
    "\n",
    "    # ====================================================\n",
    "    # ================ Create dataloaders ================\n",
    "    # ====================================================\n",
    "    train_loader = DataLoader(dataset=train_dataset,\n",
    "                              batch_size=BATCH_SIZE,\n",
    "                              sampler=weighted_sampler\n",
    "    )\n",
    "    val_loader = DataLoader(dataset=val_dataset, batch_size=1)\n",
    "    test_loader = DataLoader(dataset=test_dataset, batch_size=1)\n",
    "\n",
    "    # ====================================================\n",
    "    # ============ Define model and optimizer ============\n",
    "    # ====================================================\n",
    "    model_full = ANN(num_feature = NUM_FEATURES, num_class=NUM_CLASSES)\n",
    "    model_full.to(device)\n",
    "\n",
    "    criterion = nn.CrossEntropyLoss(weight=class_weights.to(device))\n",
    "    optimizer = optim.AdamW(model_full.parameters(), lr=LEARNING_RATE, weight_decay=0.01)\n",
    "\n",
    "    # ============================================================\n",
    "    # ==== Dictionaries to store history of accuracy and loss ====\n",
    "    # ============================================================\n",
    "    accuracy_stats_full = {\n",
    "        'train': [],\n",
    "        \"val\": []\n",
    "    }\n",
    "    loss_stats_full = {\n",
    "        'train': [],\n",
    "        \"val\": []\n",
    "    }\n",
    "\n",
    "    # ====================================================\n",
    "    # ================= Train the model ==================\n",
    "    # ====================================================\n",
    "    # print(\"Begin training.\")\n",
    "    for e in tqdm(range(1, EPOCHS+1)):\n",
    "        # TRAIN    \n",
    "        train_epoch_loss = 0\n",
    "        train_epoch_acc = 0\n",
    "\n",
    "        model_full.train()\n",
    "        for X_train_batch, y_train_batch in train_loader:\n",
    "            X_train_batch, y_train_batch = X_train_batch.to(device), y_train_batch.to(device)\n",
    "            optimizer.zero_grad()\n",
    "\n",
    "            y_train_pred = model_full(X_train_batch)\n",
    "\n",
    "            train_loss = criterion(y_train_pred, y_train_batch)\n",
    "            train_acc = multi_acc(y_train_pred, y_train_batch)\n",
    "\n",
    "            train_loss.backward()\n",
    "            optimizer.step()\n",
    "\n",
    "            train_epoch_loss += train_loss.item()\n",
    "            train_epoch_acc += train_acc.item()\n",
    "\n",
    "\n",
    "        # VALIDATION    \n",
    "        with torch.no_grad():\n",
    "            val_epoch_loss = 0\n",
    "            val_epoch_acc = 0\n",
    "\n",
    "            model_full.eval()\n",
    "            for X_val_batch, y_val_batch in val_loader:\n",
    "                X_val_batch, y_val_batch = X_val_batch.to(device), y_val_batch.to(device)\n",
    "\n",
    "                y_val_pred = model_full(X_val_batch)\n",
    "\n",
    "                val_loss = criterion(y_val_pred, y_val_batch)\n",
    "                val_acc = multi_acc(y_val_pred, y_val_batch)\n",
    "\n",
    "                val_epoch_loss += val_loss.item()\n",
    "                val_epoch_acc += val_acc.item()\n",
    "\n",
    "        loss_stats_full['train'].append(train_epoch_loss/len(train_loader))\n",
    "        loss_stats_full['val'].append(val_epoch_loss/len(val_loader))\n",
    "        accuracy_stats_full['train'].append(train_epoch_acc/len(train_loader))\n",
    "        accuracy_stats_full['val'].append(val_epoch_acc/len(val_loader))\n",
    "        \n",
    "#         if e % 5 == 0:\n",
    "#             y_pred_list = []\n",
    "#             with torch.no_grad():\n",
    "#                 model_full.eval()\n",
    "#                 for X_batch, _ in test_loader:\n",
    "#                     X_batch = X_batch.to(device)\n",
    "#                     y_test_pred = model_full(X_batch)\n",
    "#                     _, y_pred_tags = torch.max(y_test_pred, dim = 1)\n",
    "#                     y_pred_list.append(y_pred_tags.cpu().numpy())\n",
    "#             y_pred_list = [a.squeeze().tolist() for a in y_pred_list]\n",
    "#             test_acc_full = accuracy_score(y_full_test, y_pred_list)\n",
    "            \n",
    "#             print(f'epoch {e} -- test acc: {test_acc_full}')\n",
    "\n",
    "\n",
    "    #     print(f'Epoch {e+0:03}: | Train Loss: {train_epoch_loss/len(train_loader):.5f} | Val Loss: {val_epoch_loss/len(val_loader):.5f} | Train Acc: {train_epoch_acc/len(train_loader):.3f}| Val Acc: {val_epoch_acc/len(val_loader):.3f}')\n",
    "\n",
    "    # Get final accuracy and loss\n",
    "    final_loss_train = loss_stats_full['train'][-1]\n",
    "    final_loss_val = loss_stats_full['val'][-1]\n",
    "    final_acc_train = accuracy_stats_full['train'][-1]\n",
    "    final_acc_val = accuracy_stats_full['val'][-1]\n",
    "    \n",
    "    all_loss_stats_full.append(loss_stats_full)\n",
    "    all_acc_stats_full.append(accuracy_stats_full)\n",
    "\n",
    "    # =================================================\n",
    "    # ================== Test model ===================\n",
    "    # =================================================\n",
    "    y_pred_list = []\n",
    "    with torch.no_grad():\n",
    "        model_full.eval()\n",
    "        for X_batch, _ in test_loader:\n",
    "            X_batch = X_batch.to(device)\n",
    "            y_test_pred = model_full(X_batch)\n",
    "            _, y_pred_tags = torch.max(y_test_pred, dim = 1)\n",
    "            y_pred_list.append(y_pred_tags.cpu().numpy())\n",
    "    y_pred_list = [a.squeeze().tolist() for a in y_pred_list]\n",
    "\n",
    "    # =================================================\n",
    "    # ====== Confusion matrix and other metrics =======\n",
    "    # =================================================\n",
    "    all_test_conf_mat_full.append(confusion_matrix(y_full_test, y_pred_list))\n",
    "\n",
    "    test_acc_full = accuracy_score(y_full_test, y_pred_list)\n",
    "    all_test_acc_full.append(test_acc_full)\n",
    "    test_precision_full, test_recall_full, test_fscore_full, _ = \\\n",
    "        precision_recall_fscore_support(y_full_test, y_pred_list, zero_division=0)\n",
    "    \n",
    "    all_test_precision_full.append(test_precision_full)\n",
    "    all_test_recall_full.append(test_recall_full)\n",
    "    all_test_f1_full.append(test_fscore_full)\n",
    "    \n",
    "    print(f'L1SO #{id_excluded} -- Train Loss: {final_loss_train:.5f} | Val Loss: {final_loss_val:.5f} | Train Acc: {final_acc_train:.2f}% | Val Acc: {final_acc_val:.2f}% | Test Acc: {test_acc_full*100:.2f}%')\n",
    "    \n",
    "    # Save model on disk\n",
    "    torch.save({\n",
    "            'epoch': EPOCHS,\n",
    "            'model_state_dict': model_full.state_dict(),\n",
    "            'optimizer_state_dict': optimizer.state_dict(),\n",
    "            'loss': final_loss_train,\n",
    "            }, f'models/full/checkpoints/l1so_{id_excluded}.ckpt')\n",
    "    \n",
    "\n",
    "# =================================================\n",
    "# ===== Save models stats and metrics on disk =====\n",
    "# =================================================\n",
    "model_stats_full = {\"epoch_loss\": all_loss_stats_full,\n",
    "                    \"epoch_acc\": all_acc_stats_full,\n",
    "                    \"predictions\": y_pred_list,\n",
    "                    \"conf_mat\": all_test_conf_mat_full,\n",
    "                    \"test_acc\": all_test_acc_full,\n",
    "                    \"test_precision\": all_test_precision_full,\n",
    "                    \"test_recall\": all_test_recall_full,\n",
    "                    \"test_f1\": all_test_f1_full}\n",
    "\n",
    "with open('models/full/stats_model.pickle', 'wb') as handle:\n",
    "    pickle.dump(model_stats_full, handle, protocol=pickle.HIGHEST_PROTOCOL)"
   ]
  },
  {
   "cell_type": "markdown",
   "id": "1fd1e0c5",
   "metadata": {},
   "source": [
    "##### Observe results"
   ]
  },
  {
   "cell_type": "code",
   "execution_count": 15,
   "id": "af7202e0",
   "metadata": {},
   "outputs": [],
   "source": [
    "# ==========================================================\n",
    "# ======= Load dictionary with stats about the model =======\n",
    "# ==========================================================\n",
    "with open('models/full/stats_model.pickle', 'rb') as handle:\n",
    "    model_stats_full = pickle.load(handle)"
   ]
  },
  {
   "cell_type": "code",
   "execution_count": 16,
   "id": "0b9a7f70",
   "metadata": {},
   "outputs": [
    {
     "data": {
      "text/plain": [
       "Text(0.5, 1.0, 'Average Train-Val Loss (per Epoch)')"
      ]
     },
     "execution_count": 16,
     "metadata": {},
     "output_type": "execute_result"
    },
    {
     "data": {
      "image/png": "[encoded data removed]",
      "text/plain": [
       "<Figure size 1440x504 with 2 Axes>"
      ]
     },
     "metadata": {
      "needs_background": "light"
     },
     "output_type": "display_data"
    }
   ],
   "source": [
    "# ===========================================================\n",
    "# ====== Visualize loss and accuracy for train and val ======\n",
    "# ===========================================================\n",
    "# Get mean accuracy\n",
    "avg_accuracy_train = [np.mean([d['train'][idx] for d in model_stats_full['epoch_acc']]) for idx in range(len(model_stats_full['epoch_acc'][0]['train']))]\n",
    "avg_accuracy_val = [np.mean([d['val'][idx] for d in model_stats_full['epoch_acc']]) for idx in range(len(model_stats_full['epoch_acc'][0]['val']))]\n",
    "accuracy_stats_full = {\"train\": avg_accuracy_train,\n",
    "                       \"val\": avg_accuracy_val}\n",
    "\n",
    "# Get mean loss\n",
    "avg_loss_train = [np.mean([d['train'][idx] for d in model_stats_full['epoch_loss']]) for idx in range(len(model_stats_full['epoch_loss'][0]['train']))]\n",
    "avg_loss_val = [np.mean([d['val'][idx] for d in model_stats_full['epoch_loss']]) for idx in range(len(model_stats_full['epoch_loss'][0]['val']))]\n",
    "loss_stats_full = {\"train\": avg_loss_train,\n",
    "                   \"val\": avg_loss_val}\n",
    "\n",
    "# Create dataframes\n",
    "train_val_acc_df = pd.DataFrame.from_dict(accuracy_stats_full).reset_index().melt(id_vars=['index']).rename(columns={\"index\":\"epochs\"})\n",
    "train_val_loss_df = pd.DataFrame.from_dict(loss_stats_full).reset_index().melt(id_vars=['index']).rename(columns={\"index\":\"epochs\"})\n",
    "# Plot the dataframes\n",
    "fig, axes = plt.subplots(nrows=1, ncols=2, figsize=(20,7))\n",
    "sns.lineplot(data=train_val_acc_df, x = \"epochs\", y=\"value\", hue=\"variable\",  ax=axes[0]).set_title('Average Train-Val Accuracy (per Epoch)')\n",
    "sns.lineplot(data=train_val_loss_df, x = \"epochs\", y=\"value\", hue=\"variable\", ax=axes[1]).set_title('Average Train-Val Loss (per Epoch)')"
   ]
  },
  {
   "cell_type": "code",
   "execution_count": 17,
   "id": "99a952c1",
   "metadata": {},
   "outputs": [
    {
     "name": "stdout",
     "output_type": "stream",
     "text": [
      "Average accuracy: 66.82%\n"
     ]
    },
    {
     "data": {
      "text/html": [
       "<div>\n",
       "<style scoped>\n",
       "    .dataframe tbody tr th:only-of-type {\n",
       "        vertical-align: middle;\n",
       "    }\n",
       "\n",
       "    .dataframe tbody tr th {\n",
       "        vertical-align: top;\n",
       "    }\n",
       "\n",
       "    .dataframe thead th {\n",
       "        text-align: right;\n",
       "    }\n",
       "</style>\n",
       "<table border=\"1\" class=\"dataframe\">\n",
       "  <thead>\n",
       "    <tr style=\"text-align: right;\">\n",
       "      <th></th>\n",
       "      <th>Label</th>\n",
       "      <th>Precision</th>\n",
       "      <th>Recall</th>\n",
       "      <th>F1-score</th>\n",
       "    </tr>\n",
       "  </thead>\n",
       "  <tbody>\n",
       "    <tr>\n",
       "      <th>0</th>\n",
       "      <td>Non-level walking</td>\n",
       "      <td>49.06</td>\n",
       "      <td>71.28</td>\n",
       "      <td>57.20</td>\n",
       "    </tr>\n",
       "    <tr>\n",
       "      <th>1</th>\n",
       "      <td>Walking</td>\n",
       "      <td>81.30</td>\n",
       "      <td>55.54</td>\n",
       "      <td>65.12</td>\n",
       "    </tr>\n",
       "    <tr>\n",
       "      <th>2</th>\n",
       "      <td>Running</td>\n",
       "      <td>75.12</td>\n",
       "      <td>86.83</td>\n",
       "      <td>78.97</td>\n",
       "    </tr>\n",
       "    <tr>\n",
       "      <th>3</th>\n",
       "      <td>Standing</td>\n",
       "      <td>77.41</td>\n",
       "      <td>62.00</td>\n",
       "      <td>68.46</td>\n",
       "    </tr>\n",
       "    <tr>\n",
       "      <th>4</th>\n",
       "      <td>Lying</td>\n",
       "      <td>88.55</td>\n",
       "      <td>90.57</td>\n",
       "      <td>89.18</td>\n",
       "    </tr>\n",
       "    <tr>\n",
       "      <th>5</th>\n",
       "      <td>Sitting</td>\n",
       "      <td>71.81</td>\n",
       "      <td>78.92</td>\n",
       "      <td>73.76</td>\n",
       "    </tr>\n",
       "  </tbody>\n",
       "</table>\n",
       "</div>"
      ],
      "text/plain": [
       "               Label  Precision  Recall  F1-score\n",
       "0  Non-level walking      49.06   71.28     57.20\n",
       "1            Walking      81.30   55.54     65.12\n",
       "2            Running      75.12   86.83     78.97\n",
       "3           Standing      77.41   62.00     68.46\n",
       "4              Lying      88.55   90.57     89.18\n",
       "5            Sitting      71.81   78.92     73.76"
      ]
     },
     "execution_count": 17,
     "metadata": {},
     "output_type": "execute_result"
    }
   ],
   "source": [
    "# =======================================================\n",
    "# === Show additional metrics (precision, recall, F1) ===\n",
    "# =======================================================\n",
    "print(f\"Average accuracy: {np.mean(np.array(model_stats_full['test_acc'])) * 100:.2f}%\")\n",
    "\n",
    "avg_test_precision = np.mean(np.stack(model_stats_full['test_precision']), axis=0) * 100\n",
    "avg_test_recall = np.mean(np.stack(model_stats_full['test_recall']), axis=0) * 100\n",
    "avg_test_f1 = np.mean(np.stack(model_stats_full['test_f1']), axis=0) * 100\n",
    "\n",
    "test_metrics_df_full = pd.DataFrame()\n",
    "test_metrics_df_full['Label'] = labels_full\n",
    "test_metrics_df_full['Precision'] = avg_test_precision\n",
    "test_metrics_df_full['Precision'] = avg_test_precision\n",
    "test_metrics_df_full['Recall'] = avg_test_recall\n",
    "test_metrics_df_full['F1-score'] = avg_test_f1\n",
    "test_metrics_df_full = test_metrics_df_full.round(decimals=2)\n",
    "\n",
    "test_metrics_df_full"
   ]
  },
  {
   "cell_type": "code",
   "execution_count": 18,
   "id": "519ce6f2",
   "metadata": {},
   "outputs": [
    {
     "data": {
      "text/plain": [
       "<AxesSubplot:>"
      ]
     },
     "execution_count": 18,
     "metadata": {},
     "output_type": "execute_result"
    },
    {
     "data": {
      "image/png": "[encoded data removed]",
      "text/plain": [
       "<Figure size 792x576 with 2 Axes>"
      ]
     },
     "metadata": {
      "needs_background": "light"
     },
     "output_type": "display_data"
    }
   ],
   "source": [
    "# =======================================================\n",
    "# ======== Visualize confusion matrix (averaged) ========\n",
    "# =======================================================\n",
    "avg_conf_mat = np.sum(np.array(model_stats_full['conf_mat']), axis=0).astype(np.int32)\n",
    "confusion_matrix_df = pd.DataFrame(avg_conf_mat).rename(columns=idx2class, index=idx2class)\n",
    "\n",
    "a4_dims = (11, 8)\n",
    "fig, ax = plt.subplots(figsize=a4_dims)\n",
    "sns.heatmap(confusion_matrix_df, annot=True, fmt=\"d\")"
   ]
  },
  {
   "cell_type": "code",
   "execution_count": null,
   "id": "43efd8f0",
   "metadata": {},
   "outputs": [],
   "source": []
  }
 ],
 "metadata": {
  "interpreter": {
   "hash": "8593581ae19f41e6e7cf0be7d3bcc47c753cbbf798b562ddac446d73c2f16d4c"
  },
  "kernelspec": {
   "display_name": "Python 3.9.12 ('base')",
   "language": "python",
   "name": "python3"
  },
  "language_info": {
   "codemirror_mode": {
    "name": "ipython",
    "version": 3
   },
   "file_extension": ".py",
   "mimetype": "text/x-python",
   "name": "python",
   "nbconvert_exporter": "python",
   "pygments_lexer": "ipython3",
   "version": "3.9.12"
  }
 },
 "nbformat": 4,
 "nbformat_minor": 5
}
